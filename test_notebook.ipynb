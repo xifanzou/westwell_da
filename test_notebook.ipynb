{
 "cells": [
  {
   "cell_type": "code",
   "execution_count": null,
   "metadata": {},
   "outputs": [],
   "source": [
    "import os\n",
    "import pandas as pd\n",
    "from src.processer_file import read_path \n",
    "from src.processer_file import get_path \n",
    "from src.processer_file import export_file\n",
    "\n",
    "# export_file.export_to_csv(15, 'task')\n",
    "# df_dict = reader.read(16, 'task')\n",
    "\n",
    "# for k,v in df_dict.items():\n",
    "#     print(k)\n",
    "#     for k2, v2 in v.items():\n",
    "#         print(f'{k2, v2.shape}')\n",
    "\n",
    "export_file.export_to_csv(13, 'task')"
   ]
  },
  {
   "cell_type": "code",
   "execution_count": null,
   "metadata": {},
   "outputs": [],
   "source": [
    "import os\n",
    "p = \" c:\\\\Users\\westwell\\Documents\\.WorkDocuments\\github\\westwell_da\\data\\processed\\W13\\TJ\\TaskData_Tj0328_0329kpi - 副本.csv\"\n",
    "\n",
    "os.path.exists(p)\n"
   ]
  },
  {
   "cell_type": "code",
   "execution_count": null,
   "metadata": {},
   "outputs": [],
   "source": [
    "df_dict = read_path.read(week_num=15, data_src='error')"
   ]
  },
  {
   "cell_type": "code",
   "execution_count": null,
   "metadata": {},
   "outputs": [],
   "source": [
    "df_dict.keys()"
   ]
  },
  {
   "cell_type": "code",
   "execution_count": null,
   "metadata": {},
   "outputs": [],
   "source": [
    "df_dict['DL'].keys()"
   ]
  },
  {
   "cell_type": "code",
   "execution_count": null,
   "metadata": {},
   "outputs": [],
   "source": [
    "from src.processer_data import error_process\n",
    "\n",
    "data = df_dict['DL']['dl_20240411']\n",
    "print(data.shape)\n",
    "\n",
    "tmp = error_process.run(data)\n",
    "print(tmp.shape)"
   ]
  },
  {
   "cell_type": "code",
   "execution_count": null,
   "metadata": {},
   "outputs": [],
   "source": []
  }
 ],
 "metadata": {
  "kernelspec": {
   "display_name": "base",
   "language": "python",
   "name": "python3"
  },
  "language_info": {
   "codemirror_mode": {
    "name": "ipython",
    "version": 3
   },
   "file_extension": ".py",
   "mimetype": "text/x-python",
   "name": "python",
   "nbconvert_exporter": "python",
   "pygments_lexer": "ipython3",
   "version": "3.11.5"
  }
 },
 "nbformat": 4,
 "nbformat_minor": 2
}
