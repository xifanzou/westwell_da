{
 "cells": [
  {
   "cell_type": "markdown",
   "metadata": {},
   "source": [
    "# RUN"
   ]
  },
  {
   "cell_type": "code",
   "execution_count": 1,
   "metadata": {},
   "outputs": [
    {
     "name": "stdout",
     "output_type": "stream",
     "text": [
      "Now processing ---> ('ICA', 'ica0505', 'AT01Data.csv')\n"
     ]
    },
    {
     "ename": "TypeError",
     "evalue": "lmd_ckps() missing 1 required positional argument: 'y'",
     "output_type": "error",
     "traceback": [
      "\u001b[1;31m---------------------------------------------------------------------------\u001b[0m",
      "\u001b[1;31mTypeError\u001b[0m                                 Traceback (most recent call last)",
      "Cell \u001b[1;32mIn[1], line 5\u001b[0m\n\u001b[0;32m      2\u001b[0m \u001b[38;5;28;01mimport\u001b[39;00m \u001b[38;5;21;01mpandas\u001b[39;00m \u001b[38;5;28;01mas\u001b[39;00m \u001b[38;5;21;01mpd\u001b[39;00m\n\u001b[0;32m      3\u001b[0m \u001b[38;5;28;01mfrom\u001b[39;00m \u001b[38;5;21;01mmodules\u001b[39;00m\u001b[38;5;21;01m.\u001b[39;00m\u001b[38;5;21;01mdata_pipeline\u001b[39;00m \u001b[38;5;28;01mimport\u001b[39;00m process_data, get_path, export_file\n\u001b[1;32m----> 5\u001b[0m export_file\u001b[38;5;241m.\u001b[39mexport_to_csv(\u001b[38;5;124m'\u001b[39m\u001b[38;5;124mMay\u001b[39m\u001b[38;5;124m'\u001b[39m, \u001b[38;5;124m'\u001b[39m\u001b[38;5;124migv\u001b[39m\u001b[38;5;124m'\u001b[39m)\n",
      "File \u001b[1;32mc:\\Users\\westwell\\Documents\\.WorkDocuments\\github\\westwell_da\\modules\\data_pipeline\\export_file.py:25\u001b[0m, in \u001b[0;36mexport_to_csv\u001b[1;34m(week_num, data_src)\u001b[0m\n\u001b[0;32m     23\u001b[0m \u001b[38;5;28;01melse\u001b[39;00m:\n\u001b[0;32m     24\u001b[0m     path_dict \u001b[38;5;241m=\u001b[39m get_path\u001b[38;5;241m.\u001b[39mget(week_num\u001b[38;5;241m=\u001b[39mweek_num, data_src\u001b[38;5;241m=\u001b[39mdata_src)\n\u001b[1;32m---> 25\u001b[0m     df_dict \u001b[38;5;241m=\u001b[39m process_data\u001b[38;5;241m.\u001b[39mread(week_num\u001b[38;5;241m=\u001b[39mweek_num, data_src\u001b[38;5;241m=\u001b[39mdata_src)\n\u001b[0;32m     26\u001b[0m     \u001b[38;5;28;01mfor\u001b[39;00m project \u001b[38;5;129;01min\u001b[39;00m path_dict\u001b[38;5;241m.\u001b[39mkeys():\n\u001b[0;32m     27\u001b[0m         __export_init__(week_num\u001b[38;5;241m=\u001b[39mweek_num, data_src\u001b[38;5;241m=\u001b[39mdata_src,\n\u001b[0;32m     28\u001b[0m                             project\u001b[38;5;241m=\u001b[39mproject, df_dict\u001b[38;5;241m=\u001b[39mdf_dict)\n",
      "File \u001b[1;32mc:\\Users\\westwell\\Documents\\.WorkDocuments\\github\\westwell_da\\modules\\data_pipeline\\process_data.py:37\u001b[0m, in \u001b[0;36mread\u001b[1;34m(week_num, data_src)\u001b[0m\n\u001b[0;32m     35\u001b[0m     \u001b[38;5;66;03m# process data\u001b[39;00m\n\u001b[0;32m     36\u001b[0m     \u001b[38;5;28;01mfor\u001b[39;00m file_path \u001b[38;5;129;01min\u001b[39;00m path_dict[folder_name]:\n\u001b[1;32m---> 37\u001b[0m         groupped_df \u001b[38;5;241m=\u001b[39m process(week_num\u001b[38;5;241m=\u001b[39mweek_num, data_src\u001b[38;5;241m=\u001b[39mdata_src, project\u001b[38;5;241m=\u001b[39mproject,\n\u001b[0;32m     38\u001b[0m                 vessel_name\u001b[38;5;241m=\u001b[39mvessel_name, folder_name\u001b[38;5;241m=\u001b[39mfolder_name,\n\u001b[0;32m     39\u001b[0m                 file_path\u001b[38;5;241m=\u001b[39mfile_path, groupped_df\u001b[38;5;241m=\u001b[39mgroupped_df)\n\u001b[0;32m     41\u001b[0m groupped_df \u001b[38;5;241m=\u001b[39m __concat_groupped_df__(groupped_df)\n\u001b[0;32m     42\u001b[0m out_dict[project] \u001b[38;5;241m=\u001b[39m groupped_df\n",
      "File \u001b[1;32mc:\\Users\\westwell\\Documents\\.WorkDocuments\\github\\westwell_da\\modules\\data_pipeline\\process_data.py:55\u001b[0m, in \u001b[0;36mprocess\u001b[1;34m(week_num, data_src, project, vessel_name, folder_name, file_path, groupped_df)\u001b[0m\n\u001b[0;32m     53\u001b[0m \u001b[38;5;28;01mif\u001b[39;00m \u001b[38;5;28mlen\u001b[39m(cleaned_df)\u001b[38;5;241m>\u001b[39m\u001b[38;5;241m=\u001b[39m\u001b[38;5;241m100\u001b[39m:     \n\u001b[0;32m     54\u001b[0m     \u001b[38;5;28mprint\u001b[39m(\u001b[38;5;124mf\u001b[39m\u001b[38;5;124m'\u001b[39m\u001b[38;5;124mNow processing ---> \u001b[39m\u001b[38;5;132;01m{\u001b[39;00mproject,\u001b[38;5;250m \u001b[39mfolder_name,\u001b[38;5;250m \u001b[39mos\u001b[38;5;241m.\u001b[39mpath\u001b[38;5;241m.\u001b[39mbasename(file_path)\u001b[38;5;132;01m}\u001b[39;00m\u001b[38;5;124m'\u001b[39m)   \n\u001b[1;32m---> 55\u001b[0m     processed \u001b[38;5;241m=\u001b[39m __process_by_data_src__(project\u001b[38;5;241m=\u001b[39mproject, data_src\u001b[38;5;241m=\u001b[39mdata_src, df\u001b[38;5;241m=\u001b[39mcleaned_df, vessel_name\u001b[38;5;241m=\u001b[39mvessel_name)\n\u001b[0;32m     57\u001b[0m     \u001b[38;5;66;03m# IGV dfs with at least 10 mins records (3s/record)\u001b[39;00m\n\u001b[0;32m     58\u001b[0m     \u001b[38;5;28;01mif\u001b[39;00m (\u001b[38;5;28mlen\u001b[39m(processed) \u001b[38;5;241m>\u001b[39m\u001b[38;5;241m=\u001b[39m \u001b[38;5;241m200\u001b[39m) \u001b[38;5;241m|\u001b[39m (data_src\u001b[38;5;241m.\u001b[39mupper() \u001b[38;5;241m!=\u001b[39m \u001b[38;5;124m'\u001b[39m\u001b[38;5;124mIGV\u001b[39m\u001b[38;5;124m'\u001b[39m):                     \n",
      "File \u001b[1;32mc:\\Users\\westwell\\Documents\\.WorkDocuments\\github\\westwell_da\\modules\\data_pipeline\\process_data.py:77\u001b[0m, in \u001b[0;36m__process_by_data_src__\u001b[1;34m(project, data_src, df, vessel_name)\u001b[0m\n\u001b[0;32m     75\u001b[0m     processed_df \u001b[38;5;241m=\u001b[39m error_process\u001b[38;5;241m.\u001b[39mrun(df\u001b[38;5;241m=\u001b[39mdf)\n\u001b[0;32m     76\u001b[0m \u001b[38;5;28;01melif\u001b[39;00m data_src\u001b[38;5;241m.\u001b[39mupper() \u001b[38;5;241m==\u001b[39m \u001b[38;5;124m'\u001b[39m\u001b[38;5;124mIGV\u001b[39m\u001b[38;5;124m'\u001b[39m:\n\u001b[1;32m---> 77\u001b[0m     processed_df \u001b[38;5;241m=\u001b[39m igv_process\u001b[38;5;241m.\u001b[39mrun(project\u001b[38;5;241m=\u001b[39mproject, df\u001b[38;5;241m=\u001b[39mdf)\n\u001b[0;32m     78\u001b[0m \u001b[38;5;28;01mreturn\u001b[39;00m processed_df\n",
      "File \u001b[1;32mc:\\Users\\westwell\\Documents\\.WorkDocuments\\github\\westwell_da\\modules\\IGV\\igv_process.py:27\u001b[0m, in \u001b[0;36mrun\u001b[1;34m(project, df)\u001b[0m\n\u001b[0;32m     25\u001b[0m     df \u001b[38;5;241m=\u001b[39m get_queue_mark_and_estop(df\u001b[38;5;241m=\u001b[39mdf)\n\u001b[0;32m     26\u001b[0m     df \u001b[38;5;241m=\u001b[39m get_chassis_mode(df\u001b[38;5;241m=\u001b[39mdf)\n\u001b[1;32m---> 27\u001b[0m     df \u001b[38;5;241m=\u001b[39m icave_get_checkpoints\u001b[38;5;241m.\u001b[39mget(df\u001b[38;5;241m=\u001b[39mdf)\n\u001b[0;32m     29\u001b[0m \u001b[38;5;28;01melif\u001b[39;00m project \u001b[38;5;241m==\u001b[39m \u001b[38;5;124m'\u001b[39m\u001b[38;5;124mCK\u001b[39m\u001b[38;5;124m'\u001b[39m:\n\u001b[0;32m     30\u001b[0m     df \u001b[38;5;241m=\u001b[39m df\n",
      "File \u001b[1;32mc:\\Users\\westwell\\Documents\\.WorkDocuments\\github\\westwell_da\\modules\\IGV\\icave_get_checkpoints.py:17\u001b[0m, in \u001b[0;36mget\u001b[1;34m(df)\u001b[0m\n\u001b[0;32m     14\u001b[0m df[\u001b[38;5;124m'\u001b[39m\u001b[38;5;124mlocation_section\u001b[39m\u001b[38;5;124m'\u001b[39m] \u001b[38;5;241m=\u001b[39m df\u001b[38;5;241m.\u001b[39mapply(\u001b[38;5;28;01mlambda\u001b[39;00m x: lmd_section_relabel(x[\u001b[38;5;124m'\u001b[39m\u001b[38;5;124mlocation_section\u001b[39m\u001b[38;5;124m'\u001b[39m], x[\u001b[38;5;124m'\u001b[39m\u001b[38;5;124mposition_x\u001b[39m\u001b[38;5;124m'\u001b[39m], x[\u001b[38;5;124m'\u001b[39m\u001b[38;5;124mposition_y\u001b[39m\u001b[38;5;124m'\u001b[39m]), axis\u001b[38;5;241m=\u001b[39m\u001b[38;5;241m1\u001b[39m)\n\u001b[0;32m     16\u001b[0m \u001b[38;5;66;03m# get breakdown, cut in and cut outs\u001b[39;00m\n\u001b[1;32m---> 17\u001b[0m df[\u001b[38;5;124m'\u001b[39m\u001b[38;5;124mckp_demo\u001b[39m\u001b[38;5;124m'\u001b[39m] \u001b[38;5;241m=\u001b[39m df\u001b[38;5;241m.\u001b[39mapply(\u001b[38;5;28;01mlambda\u001b[39;00m x: lmd_ckps(x[\u001b[38;5;124m'\u001b[39m\u001b[38;5;124mlocation_section\u001b[39m\u001b[38;5;124m'\u001b[39m], x[\u001b[38;5;124m'\u001b[39m\u001b[38;5;124mtarget_location\u001b[39m\u001b[38;5;124m'\u001b[39m], x[\u001b[38;5;124m'\u001b[39m\u001b[38;5;124mSL\u001b[39m\u001b[38;5;124m'\u001b[39m], x[\u001b[38;5;124m'\u001b[39m\u001b[38;5;124mcurrent_task\u001b[39m\u001b[38;5;124m'\u001b[39m], x[\u001b[38;5;124m'\u001b[39m\u001b[38;5;124mposition_x\u001b[39m\u001b[38;5;124m'\u001b[39m], x[\u001b[38;5;124m'\u001b[39m\u001b[38;5;124mposition_y\u001b[39m\u001b[38;5;124m'\u001b[39m]), axis\u001b[38;5;241m=\u001b[39m\u001b[38;5;241m1\u001b[39m)\n\u001b[0;32m     18\u001b[0m df[\u001b[38;5;124m'\u001b[39m\u001b[38;5;124mcut_in\u001b[39m\u001b[38;5;124m'\u001b[39m] \u001b[38;5;241m=\u001b[39m df[\u001b[38;5;124m'\u001b[39m\u001b[38;5;124mckp_demo\u001b[39m\u001b[38;5;124m'\u001b[39m]\u001b[38;5;241m.\u001b[39mapply(\u001b[38;5;28;01mlambda\u001b[39;00m x: \u001b[38;5;28;01mTrue\u001b[39;00m \u001b[38;5;28;01mif\u001b[39;00m x\u001b[38;5;241m==\u001b[39m\u001b[38;5;124m'\u001b[39m\u001b[38;5;124m2->3\u001b[39m\u001b[38;5;124m'\u001b[39m \u001b[38;5;28;01melse\u001b[39;00m \u001b[38;5;28;01mFalse\u001b[39;00m)\n\u001b[0;32m     19\u001b[0m df[\u001b[38;5;124m'\u001b[39m\u001b[38;5;124mcut_out\u001b[39m\u001b[38;5;124m'\u001b[39m]\u001b[38;5;241m=\u001b[39m df[\u001b[38;5;124m'\u001b[39m\u001b[38;5;124mckp_demo\u001b[39m\u001b[38;5;124m'\u001b[39m]\u001b[38;5;241m.\u001b[39mapply(\u001b[38;5;28;01mlambda\u001b[39;00m x: \u001b[38;5;28;01mTrue\u001b[39;00m \u001b[38;5;28;01mif\u001b[39;00m x\u001b[38;5;241m==\u001b[39m\u001b[38;5;124m'\u001b[39m\u001b[38;5;124m4->5\u001b[39m\u001b[38;5;124m'\u001b[39m \u001b[38;5;28;01melse\u001b[39;00m \u001b[38;5;28;01mFalse\u001b[39;00m)\n",
      "File \u001b[1;32mc:\\Users\\westwell\\anaconda3\\Lib\\site-packages\\pandas\\core\\frame.py:9423\u001b[0m, in \u001b[0;36mDataFrame.apply\u001b[1;34m(self, func, axis, raw, result_type, args, **kwargs)\u001b[0m\n\u001b[0;32m   9412\u001b[0m \u001b[38;5;28;01mfrom\u001b[39;00m \u001b[38;5;21;01mpandas\u001b[39;00m\u001b[38;5;21;01m.\u001b[39;00m\u001b[38;5;21;01mcore\u001b[39;00m\u001b[38;5;21;01m.\u001b[39;00m\u001b[38;5;21;01mapply\u001b[39;00m \u001b[38;5;28;01mimport\u001b[39;00m frame_apply\n\u001b[0;32m   9414\u001b[0m op \u001b[38;5;241m=\u001b[39m frame_apply(\n\u001b[0;32m   9415\u001b[0m     \u001b[38;5;28mself\u001b[39m,\n\u001b[0;32m   9416\u001b[0m     func\u001b[38;5;241m=\u001b[39mfunc,\n\u001b[1;32m   (...)\u001b[0m\n\u001b[0;32m   9421\u001b[0m     kwargs\u001b[38;5;241m=\u001b[39mkwargs,\n\u001b[0;32m   9422\u001b[0m )\n\u001b[1;32m-> 9423\u001b[0m \u001b[38;5;28;01mreturn\u001b[39;00m op\u001b[38;5;241m.\u001b[39mapply()\u001b[38;5;241m.\u001b[39m__finalize__(\u001b[38;5;28mself\u001b[39m, method\u001b[38;5;241m=\u001b[39m\u001b[38;5;124m\"\u001b[39m\u001b[38;5;124mapply\u001b[39m\u001b[38;5;124m\"\u001b[39m)\n",
      "File \u001b[1;32mc:\\Users\\westwell\\anaconda3\\Lib\\site-packages\\pandas\\core\\apply.py:678\u001b[0m, in \u001b[0;36mFrameApply.apply\u001b[1;34m(self)\u001b[0m\n\u001b[0;32m    675\u001b[0m \u001b[38;5;28;01melif\u001b[39;00m \u001b[38;5;28mself\u001b[39m\u001b[38;5;241m.\u001b[39mraw:\n\u001b[0;32m    676\u001b[0m     \u001b[38;5;28;01mreturn\u001b[39;00m \u001b[38;5;28mself\u001b[39m\u001b[38;5;241m.\u001b[39mapply_raw()\n\u001b[1;32m--> 678\u001b[0m \u001b[38;5;28;01mreturn\u001b[39;00m \u001b[38;5;28mself\u001b[39m\u001b[38;5;241m.\u001b[39mapply_standard()\n",
      "File \u001b[1;32mc:\\Users\\westwell\\anaconda3\\Lib\\site-packages\\pandas\\core\\apply.py:798\u001b[0m, in \u001b[0;36mFrameApply.apply_standard\u001b[1;34m(self)\u001b[0m\n\u001b[0;32m    797\u001b[0m \u001b[38;5;28;01mdef\u001b[39;00m \u001b[38;5;21mapply_standard\u001b[39m(\u001b[38;5;28mself\u001b[39m):\n\u001b[1;32m--> 798\u001b[0m     results, res_index \u001b[38;5;241m=\u001b[39m \u001b[38;5;28mself\u001b[39m\u001b[38;5;241m.\u001b[39mapply_series_generator()\n\u001b[0;32m    800\u001b[0m     \u001b[38;5;66;03m# wrap results\u001b[39;00m\n\u001b[0;32m    801\u001b[0m     \u001b[38;5;28;01mreturn\u001b[39;00m \u001b[38;5;28mself\u001b[39m\u001b[38;5;241m.\u001b[39mwrap_results(results, res_index)\n",
      "File \u001b[1;32mc:\\Users\\westwell\\anaconda3\\Lib\\site-packages\\pandas\\core\\apply.py:814\u001b[0m, in \u001b[0;36mFrameApply.apply_series_generator\u001b[1;34m(self)\u001b[0m\n\u001b[0;32m    811\u001b[0m \u001b[38;5;28;01mwith\u001b[39;00m option_context(\u001b[38;5;124m\"\u001b[39m\u001b[38;5;124mmode.chained_assignment\u001b[39m\u001b[38;5;124m\"\u001b[39m, \u001b[38;5;28;01mNone\u001b[39;00m):\n\u001b[0;32m    812\u001b[0m     \u001b[38;5;28;01mfor\u001b[39;00m i, v \u001b[38;5;129;01min\u001b[39;00m \u001b[38;5;28menumerate\u001b[39m(series_gen):\n\u001b[0;32m    813\u001b[0m         \u001b[38;5;66;03m# ignore SettingWithCopy here in case the user mutates\u001b[39;00m\n\u001b[1;32m--> 814\u001b[0m         results[i] \u001b[38;5;241m=\u001b[39m \u001b[38;5;28mself\u001b[39m\u001b[38;5;241m.\u001b[39mf(v)\n\u001b[0;32m    815\u001b[0m         \u001b[38;5;28;01mif\u001b[39;00m \u001b[38;5;28misinstance\u001b[39m(results[i], ABCSeries):\n\u001b[0;32m    816\u001b[0m             \u001b[38;5;66;03m# If we have a view on v, we need to make a copy because\u001b[39;00m\n\u001b[0;32m    817\u001b[0m             \u001b[38;5;66;03m#  series_generator will swap out the underlying data\u001b[39;00m\n\u001b[0;32m    818\u001b[0m             results[i] \u001b[38;5;241m=\u001b[39m results[i]\u001b[38;5;241m.\u001b[39mcopy(deep\u001b[38;5;241m=\u001b[39m\u001b[38;5;28;01mFalse\u001b[39;00m)\n",
      "File \u001b[1;32mc:\\Users\\westwell\\Documents\\.WorkDocuments\\github\\westwell_da\\modules\\IGV\\icave_get_checkpoints.py:17\u001b[0m, in \u001b[0;36mget.<locals>.<lambda>\u001b[1;34m(x)\u001b[0m\n\u001b[0;32m     14\u001b[0m df[\u001b[38;5;124m'\u001b[39m\u001b[38;5;124mlocation_section\u001b[39m\u001b[38;5;124m'\u001b[39m] \u001b[38;5;241m=\u001b[39m df\u001b[38;5;241m.\u001b[39mapply(\u001b[38;5;28;01mlambda\u001b[39;00m x: lmd_section_relabel(x[\u001b[38;5;124m'\u001b[39m\u001b[38;5;124mlocation_section\u001b[39m\u001b[38;5;124m'\u001b[39m], x[\u001b[38;5;124m'\u001b[39m\u001b[38;5;124mposition_x\u001b[39m\u001b[38;5;124m'\u001b[39m], x[\u001b[38;5;124m'\u001b[39m\u001b[38;5;124mposition_y\u001b[39m\u001b[38;5;124m'\u001b[39m]), axis\u001b[38;5;241m=\u001b[39m\u001b[38;5;241m1\u001b[39m)\n\u001b[0;32m     16\u001b[0m \u001b[38;5;66;03m# get breakdown, cut in and cut outs\u001b[39;00m\n\u001b[1;32m---> 17\u001b[0m df[\u001b[38;5;124m'\u001b[39m\u001b[38;5;124mckp_demo\u001b[39m\u001b[38;5;124m'\u001b[39m] \u001b[38;5;241m=\u001b[39m df\u001b[38;5;241m.\u001b[39mapply(\u001b[38;5;28;01mlambda\u001b[39;00m x: lmd_ckps(x[\u001b[38;5;124m'\u001b[39m\u001b[38;5;124mlocation_section\u001b[39m\u001b[38;5;124m'\u001b[39m], x[\u001b[38;5;124m'\u001b[39m\u001b[38;5;124mtarget_location\u001b[39m\u001b[38;5;124m'\u001b[39m], x[\u001b[38;5;124m'\u001b[39m\u001b[38;5;124mSL\u001b[39m\u001b[38;5;124m'\u001b[39m], x[\u001b[38;5;124m'\u001b[39m\u001b[38;5;124mcurrent_task\u001b[39m\u001b[38;5;124m'\u001b[39m], x[\u001b[38;5;124m'\u001b[39m\u001b[38;5;124mposition_x\u001b[39m\u001b[38;5;124m'\u001b[39m], x[\u001b[38;5;124m'\u001b[39m\u001b[38;5;124mposition_y\u001b[39m\u001b[38;5;124m'\u001b[39m]), axis\u001b[38;5;241m=\u001b[39m\u001b[38;5;241m1\u001b[39m)\n\u001b[0;32m     18\u001b[0m df[\u001b[38;5;124m'\u001b[39m\u001b[38;5;124mcut_in\u001b[39m\u001b[38;5;124m'\u001b[39m] \u001b[38;5;241m=\u001b[39m df[\u001b[38;5;124m'\u001b[39m\u001b[38;5;124mckp_demo\u001b[39m\u001b[38;5;124m'\u001b[39m]\u001b[38;5;241m.\u001b[39mapply(\u001b[38;5;28;01mlambda\u001b[39;00m x: \u001b[38;5;28;01mTrue\u001b[39;00m \u001b[38;5;28;01mif\u001b[39;00m x\u001b[38;5;241m==\u001b[39m\u001b[38;5;124m'\u001b[39m\u001b[38;5;124m2->3\u001b[39m\u001b[38;5;124m'\u001b[39m \u001b[38;5;28;01melse\u001b[39;00m \u001b[38;5;28;01mFalse\u001b[39;00m)\n\u001b[0;32m     19\u001b[0m df[\u001b[38;5;124m'\u001b[39m\u001b[38;5;124mcut_out\u001b[39m\u001b[38;5;124m'\u001b[39m]\u001b[38;5;241m=\u001b[39m df[\u001b[38;5;124m'\u001b[39m\u001b[38;5;124mckp_demo\u001b[39m\u001b[38;5;124m'\u001b[39m]\u001b[38;5;241m.\u001b[39mapply(\u001b[38;5;28;01mlambda\u001b[39;00m x: \u001b[38;5;28;01mTrue\u001b[39;00m \u001b[38;5;28;01mif\u001b[39;00m x\u001b[38;5;241m==\u001b[39m\u001b[38;5;124m'\u001b[39m\u001b[38;5;124m4->5\u001b[39m\u001b[38;5;124m'\u001b[39m \u001b[38;5;28;01melse\u001b[39;00m \u001b[38;5;28;01mFalse\u001b[39;00m)\n",
      "\u001b[1;31mTypeError\u001b[0m: lmd_ckps() missing 1 required positional argument: 'y'"
     ]
    }
   ],
   "source": [
    "import os\n",
    "import pandas as pd\n",
    "from modules.data_pipeline import process_data, get_path, export_file\n",
    "\n",
    "export_file.export_to_csv('May', 'igv')\n",
    "\n",
    "# dict = process_data.read(99, 'igv')\n",
    "# paths = get_path.get(99,'igv')"
   ]
  },
  {
   "cell_type": "code",
   "execution_count": null,
   "metadata": {},
   "outputs": [],
   "source": []
  },
  {
   "cell_type": "markdown",
   "metadata": {},
   "source": [
    "# Test all weekly file"
   ]
  },
  {
   "cell_type": "code",
   "execution_count": null,
   "metadata": {},
   "outputs": [],
   "source": [
    "import os\n",
    "import pandas as pd\n",
    "import numpy as np\n",
    "\n",
    "def get_all_weekly_file():\n",
    "    root = 'c:\\\\Users\\westwell\\Documents\\.WorkDocuments\\github\\westwell_da\\data\\processed\\W99'\n",
    "    pathlist = []\n",
    "    for item in os.listdir(root):\n",
    "        p = os.path.join(root, item)\n",
    "        if os.path.isfile(p):\n",
    "            pathlist.append(p)\n",
    "    return pathlist\n",
    "\n",
    "def lmd_rtg_operation(location_ref=str, task_stage=str):\n",
    "    if ('YARD' in location_ref) & (task_stage=='Waiting for Operation'):\n",
    "        return 'Waiting for Operation'\n",
    "    else:\n",
    "        return np.NaN\n",
    "\n",
    "li = get_all_weekly_file()"
   ]
  },
  {
   "cell_type": "code",
   "execution_count": null,
   "metadata": {},
   "outputs": [],
   "source": [
    "for p in li:\n",
    "    print(p)\n",
    "\n",
    "    df = pd.read_csv(p, encoding='utf-8-sig', index_col=0)\n",
    "\n",
    "    print(df.columns)\n",
    "    print()"
   ]
  },
  {
   "cell_type": "code",
   "execution_count": null,
   "metadata": {},
   "outputs": [],
   "source": [
    "df.columns\n"
   ]
  },
  {
   "cell_type": "code",
   "execution_count": null,
   "metadata": {},
   "outputs": [],
   "source": [
    "df['task_stage'].value_counts().index.tolist()"
   ]
  },
  {
   "cell_type": "code",
   "execution_count": null,
   "metadata": {},
   "outputs": [],
   "source": [
    "path = os.path.abspath('c:\\\\Users\\westwell\\Documents\\.WorkDocuments\\github\\westwell_da\\data\\processed\\W17\\Igv_W17_TPY.csv')\n",
    "\n",
    "d = pd.read_csv(path, encoding='utf-8-sig')\n",
    "d.columns"
   ]
  },
  {
   "cell_type": "code",
   "execution_count": null,
   "metadata": {},
   "outputs": [],
   "source": [
    "def lambda_power_usage(soc_diff):\n",
    "    if soc_diff > 0 and soc_diff<=5: return soc_diff\n",
    "    elif soc_diff<=0 and soc_diff>-5: return 0\n",
    "    elif soc_diff >5: return 5\n",
    "    elif soc_diff<=-5: return -1\n",
    "\n",
    "\n",
    "for vehicle, d2 in d.groupby('vehicle_id'):\n",
    "    for cycle, data in d2.groupby('Cycle Tag'):\n",
    "        data['soc_diff'] = data['soc'] - data['soc'].shift(-1)\n",
    "        data['power_usage'] = data['soc_diff'].apply(lambda x: lambda_power_usage(x))\n",
    "        print( data['soc_diff'].value_counts().index.tolist(),\n",
    "              data['power_usage'].value_counts().index.tolist())\n",
    "        print()"
   ]
  },
  {
   "cell_type": "markdown",
   "metadata": {},
   "source": [
    "# CKP info extract"
   ]
  },
  {
   "cell_type": "code",
   "execution_count": null,
   "metadata": {},
   "outputs": [],
   "source": [
    "import pandas as pd\n",
    "# display('C:\\\\Users\\westwell\\Documents\\\\.WorkDocuments\\github\\westwell_da\\data\\processed\\W18\\ICA\\IgvData_ica20240504.csv')\n",
    "\n",
    "p = 'C:\\\\Users\\\\westwell\\\\Documents\\\\.WorkDocuments\\\\github\\\\westwell_da\\\\data\\\\processed\\\\W18\\\\ICA\\\\IgvData_ica20240503.csv'\n",
    "\n",
    "d = pd.read_csv(p, index_col=0)\n",
    "display(d.columns)\n",
    "\n",
    "def feature_extraction(group):\n",
    "    duration = group['duration_min'].sum()  # Example feature: sum of duration\n",
    "    vehicle  = group['vehicle_id'].min()\n",
    "    task_type= group['mission_type_org'].min()\n",
    "    start    = group['local_time'].min()\n",
    "    end      = group['local_time'].max()\n",
    "    ck1      = group['local_time']\n",
    "\n",
    "    return pd.Series({'duration_min': duration, \n",
    "                      'AT ID': vehicle,\n",
    "                      'mission_type': task_type,\n",
    "                      'cycle_start':start,\n",
    "                      'cycle_end':  end,\n",
    "                      })\n",
    "\n",
    "\n",
    "grouped = d.groupby('Cycle Tag').apply(feature_extraction)\n",
    "\n",
    "display(grouped.head(1))\n",
    "\n",
    "# Group by 'Cycle Tag' and 'ckp_demo' and find the min of 'local_time'\n",
    "g = d.groupby(['Cycle Tag', 'ckp_demo'])['local_time'].min().reset_index()\n",
    "\n",
    "# Pivot the DataFrame\n",
    "pivoted = g.pivot(index='Cycle Tag', columns='ckp_demo', values='local_time').reset_index()\n",
    "display(pivoted.head(1))\n",
    "\n",
    "merged = pd.merge(grouped, pivoted, on='Cycle Tag', how='left')\n",
    "# merged.to_csv('ckp_info_export_0503.csv')\n",
    "display(merged)"
   ]
  }
 ],
 "metadata": {
  "kernelspec": {
   "display_name": "base",
   "language": "python",
   "name": "python3"
  },
  "language_info": {
   "codemirror_mode": {
    "name": "ipython",
    "version": 3
   },
   "file_extension": ".py",
   "mimetype": "text/x-python",
   "name": "python",
   "nbconvert_exporter": "python",
   "pygments_lexer": "ipython3",
   "version": "3.11.5"
  }
 },
 "nbformat": 4,
 "nbformat_minor": 2
}
