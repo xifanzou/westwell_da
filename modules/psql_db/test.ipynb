{
 "cells": [
  {
   "cell_type": "code",
   "execution_count": 2,
   "metadata": {},
   "outputs": [
    {
     "name": "stdout",
     "output_type": "stream",
     "text": [
      "folder path is c:\\Users\\westwell\\Documents\\.WorkDocuments\\github\\westwell_da\\modules\\psql_db\\data\\processed\n"
     ]
    }
   ],
   "source": [
    "import os\n",
    "import pandas as pd\n",
    "import numpy as np\n",
    "from sqlalchemy import create_engine\n",
    "import test\n",
    "\n",
    "\n",
    "folder_path = os.path.abspath(os.path.join(\"data\",\"processed\"))\n",
    "\n",
    "# path_list = []\n",
    "# for item in os.listdir(folder_path):\n",
    "#     if item.lower().endswith(\".csv\"):\n",
    "#         path_list.append(os.path.join(folder_path, item))\n",
    "\n",
    "\n",
    "test.run()"
   ]
  },
  {
   "cell_type": "code",
   "execution_count": null,
   "metadata": {},
   "outputs": [],
   "source": []
  }
 ],
 "metadata": {
  "kernelspec": {
   "display_name": "base",
   "language": "python",
   "name": "python3"
  },
  "language_info": {
   "codemirror_mode": {
    "name": "ipython",
    "version": 3
   },
   "file_extension": ".py",
   "mimetype": "text/x-python",
   "name": "python",
   "nbconvert_exporter": "python",
   "pygments_lexer": "ipython3",
   "version": "3.11.5"
  }
 },
 "nbformat": 4,
 "nbformat_minor": 2
}
