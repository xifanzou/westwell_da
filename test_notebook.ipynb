{
 "cells": [
  {
   "cell_type": "markdown",
   "metadata": {},
   "source": [
    "# RUN"
   ]
  },
  {
   "cell_type": "code",
   "execution_count": 1,
   "metadata": {},
   "outputs": [
    {
     "name": "stdout",
     "output_type": "stream",
     "text": [
      "Now processing ---> ('ICA', 'ica0505', 'AT01Data.csv')\n",
      "Now processing ---> ('ICA', 'ica0505', 'AT03Data.csv')\n",
      "No info or empty file: ('ica0507', 'AT03Data.csv')\n",
      "No info or empty file: ('ica0507', 'AT06Data.csv')\n",
      "Now processing ---> ('ICA', 'ica0508', 'AT02Data.csv')\n",
      "Now processing ---> ('ICA', 'ica0508', 'AT06Data.csv')\n",
      "Now processing ---> ('ICA', 'ica0509', 'AT02Data.csv')\n",
      "Now processing ---> ('ICA', 'ica0509', 'AT03Data.csv')\n",
      "Now processing ---> ('ICA', 'ica0510', 'AT01Data.csv')\n",
      "Now processing ---> ('ICA', 'ica0510', 'AT03Data.csv')\n",
      "Now processing ---> ('ICA', 'ica0510-0511', 'AT01Data.csv')\n",
      "Now processing ---> ('ICA', 'ica0510-0511', 'AT03Data.csv')\n",
      "Now processing ---> ('ICA', 'ica0511', 'AT03Data.csv')\n",
      "Now processing ---> ('ICA', 'ica0512', 'AT06Data.csv')\n",
      "Now processing ---> ('ICA', 'ica0515', 'AT01Data.csv')\n",
      "Now processing ---> ('ICA', 'ica0515', 'AT02Data.csv')\n",
      "Now processing ---> ('ICA', 'ica0515', 'AT06Data.csv')\n",
      "Already exists: c:\\Users\\westwell\\Documents\\.WorkDocuments\\github\\westwell_da\\data\\processed\\WMay\\ICA\\IgvData_ica0505.csv. Skipping export.\n",
      "Already exists: c:\\Users\\westwell\\Documents\\.WorkDocuments\\github\\westwell_da\\data\\processed\\WMay\\ICA\\IgvData_ica0508.csv. Skipping export.\n",
      "Already exists: c:\\Users\\westwell\\Documents\\.WorkDocuments\\github\\westwell_da\\data\\processed\\WMay\\ICA\\IgvData_ica0509.csv. Skipping export.\n",
      "Already exists: c:\\Users\\westwell\\Documents\\.WorkDocuments\\github\\westwell_da\\data\\processed\\WMay\\ICA\\IgvData_ica0510.csv. Skipping export.\n",
      "Already exists: c:\\Users\\westwell\\Documents\\.WorkDocuments\\github\\westwell_da\\data\\processed\\WMay\\ICA\\IgvData_ica0510-0511.csv. Skipping export.\n",
      "Already exists: c:\\Users\\westwell\\Documents\\.WorkDocuments\\github\\westwell_da\\data\\processed\\WMay\\ICA\\IgvData_ica0511.csv. Skipping export.\n",
      "File exported to: c:\\Users\\westwell\\Documents\\.WorkDocuments\\github\\westwell_da\\data\\processed\\WMay\\ICA\\IgvData_ica0512.csv\n",
      "Already exists: c:\\Users\\westwell\\Documents\\.WorkDocuments\\github\\westwell_da\\data\\processed\\WMay\\ICA\\IgvData_ica0515.csv. Skipping export.\n",
      "Weekly file exported to: c:\\Users\\westwell\\Documents\\.WorkDocuments\\github\\westwell_da\\data\\processed\\WMay\\IGV_WMay_ICA.csv\n",
      "\n"
     ]
    }
   ],
   "source": [
    "import os\n",
    "import pandas as pd\n",
    "from modules.data_pipeline import process_data, get_path, export_file\n",
    "\n",
    "export_file.export_to_csv('May', 'igv')\n",
    "\n",
    "# dict = process_data.read(99, 'igv')\n",
    "# paths = get_path.get(99,'igv')"
   ]
  },
  {
   "cell_type": "code",
   "execution_count": null,
   "metadata": {},
   "outputs": [],
   "source": []
  },
  {
   "cell_type": "markdown",
   "metadata": {},
   "source": [
    "# Test all weekly file"
   ]
  },
  {
   "cell_type": "code",
   "execution_count": null,
   "metadata": {},
   "outputs": [],
   "source": [
    "import os\n",
    "import pandas as pd\n",
    "import numpy as np\n",
    "\n",
    "def get_all_weekly_file():\n",
    "    root = 'c:\\\\Users\\westwell\\Documents\\.WorkDocuments\\github\\westwell_da\\data\\processed\\W99'\n",
    "    pathlist = []\n",
    "    for item in os.listdir(root):\n",
    "        p = os.path.join(root, item)\n",
    "        if os.path.isfile(p):\n",
    "            pathlist.append(p)\n",
    "    return pathlist\n",
    "\n",
    "def lmd_rtg_operation(location_ref=str, task_stage=str):\n",
    "    if ('YARD' in location_ref) & (task_stage=='Waiting for Operation'):\n",
    "        return 'Waiting for Operation'\n",
    "    else:\n",
    "        return np.NaN\n",
    "\n",
    "li = get_all_weekly_file()"
   ]
  },
  {
   "cell_type": "code",
   "execution_count": null,
   "metadata": {},
   "outputs": [],
   "source": [
    "for p in li:\n",
    "    print(p)\n",
    "\n",
    "    df = pd.read_csv(p, encoding='utf-8-sig', index_col=0)\n",
    "\n",
    "    print(df.columns)\n",
    "    print()"
   ]
  },
  {
   "cell_type": "code",
   "execution_count": null,
   "metadata": {},
   "outputs": [],
   "source": [
    "df.columns\n"
   ]
  },
  {
   "cell_type": "code",
   "execution_count": null,
   "metadata": {},
   "outputs": [],
   "source": [
    "df['task_stage'].value_counts().index.tolist()"
   ]
  },
  {
   "cell_type": "code",
   "execution_count": null,
   "metadata": {},
   "outputs": [],
   "source": [
    "path = os.path.abspath('c:\\\\Users\\westwell\\Documents\\.WorkDocuments\\github\\westwell_da\\data\\processed\\W17\\Igv_W17_TPY.csv')\n",
    "\n",
    "d = pd.read_csv(path, encoding='utf-8-sig')\n",
    "d.columns"
   ]
  },
  {
   "cell_type": "code",
   "execution_count": null,
   "metadata": {},
   "outputs": [],
   "source": [
    "def lambda_power_usage(soc_diff):\n",
    "    if soc_diff > 0 and soc_diff<=5: return soc_diff\n",
    "    elif soc_diff<=0 and soc_diff>-5: return 0\n",
    "    elif soc_diff >5: return 5\n",
    "    elif soc_diff<=-5: return -1\n",
    "\n",
    "\n",
    "for vehicle, d2 in d.groupby('vehicle_id'):\n",
    "    for cycle, data in d2.groupby('Cycle Tag'):\n",
    "        data['soc_diff'] = data['soc'] - data['soc'].shift(-1)\n",
    "        data['power_usage'] = data['soc_diff'].apply(lambda x: lambda_power_usage(x))\n",
    "        print( data['soc_diff'].value_counts().index.tolist(),\n",
    "              data['power_usage'].value_counts().index.tolist())\n",
    "        print()"
   ]
  },
  {
   "cell_type": "markdown",
   "metadata": {},
   "source": [
    "# CKP info extract"
   ]
  },
  {
   "cell_type": "code",
   "execution_count": null,
   "metadata": {},
   "outputs": [],
   "source": [
    "import pandas as pd\n",
    "# display('C:\\\\Users\\westwell\\Documents\\\\.WorkDocuments\\github\\westwell_da\\data\\processed\\W18\\ICA\\IgvData_ica20240504.csv')\n",
    "\n",
    "p = 'C:\\\\Users\\\\westwell\\\\Documents\\\\.WorkDocuments\\\\github\\\\westwell_da\\\\data\\\\processed\\\\W18\\\\ICA\\\\IgvData_ica20240503.csv'\n",
    "\n",
    "d = pd.read_csv(p, index_col=0)\n",
    "display(d.columns)\n",
    "\n",
    "def feature_extraction(group):\n",
    "    duration = group['duration_min'].sum()  # Example feature: sum of duration\n",
    "    vehicle  = group['vehicle_id'].min()\n",
    "    task_type= group['mission_type_org'].min()\n",
    "    start    = group['local_time'].min()\n",
    "    end      = group['local_time'].max()\n",
    "    ck1      = group['local_time']\n",
    "\n",
    "    return pd.Series({'duration_min': duration, \n",
    "                      'AT ID': vehicle,\n",
    "                      'mission_type': task_type,\n",
    "                      'cycle_start':start,\n",
    "                      'cycle_end':  end,\n",
    "                      })\n",
    "\n",
    "\n",
    "grouped = d.groupby('Cycle Tag').apply(feature_extraction)\n",
    "\n",
    "display(grouped.head(1))\n",
    "\n",
    "# Group by 'Cycle Tag' and 'ckp_demo' and find the min of 'local_time'\n",
    "g = d.groupby(['Cycle Tag', 'ckp_demo'])['local_time'].min().reset_index()\n",
    "\n",
    "# Pivot the DataFrame\n",
    "pivoted = g.pivot(index='Cycle Tag', columns='ckp_demo', values='local_time').reset_index()\n",
    "display(pivoted.head(1))\n",
    "\n",
    "merged = pd.merge(grouped, pivoted, on='Cycle Tag', how='left')\n",
    "# merged.to_csv('ckp_info_export_0503.csv')\n",
    "display(merged)"
   ]
  }
 ],
 "metadata": {
  "kernelspec": {
   "display_name": "base",
   "language": "python",
   "name": "python3"
  },
  "language_info": {
   "codemirror_mode": {
    "name": "ipython",
    "version": 3
   },
   "file_extension": ".py",
   "mimetype": "text/x-python",
   "name": "python",
   "nbconvert_exporter": "python",
   "pygments_lexer": "ipython3",
   "version": "3.11.5"
  }
 },
 "nbformat": 4,
 "nbformat_minor": 2
}
