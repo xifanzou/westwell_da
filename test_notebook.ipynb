{
 "cells": [
  {
   "cell_type": "code",
   "execution_count": 1,
   "metadata": {},
   "outputs": [
    {
     "name": "stdout",
     "output_type": "stream",
     "text": [
      "No info or empty file: ('TPY_20240508', 'tpy01_igv_data_20240508.csv')\n",
      "Now processing ---> ('TPY', 'TPY_20240508', 'tpy02_igv_data_20240508.csv')\n",
      "TPY has no map config\n",
      "Now processing ---> ('TPY', 'TPY_20240508', 'tpy03_igv_data_20240508.csv')\n",
      "TPY has no map config\n",
      "No info or empty file: ('TPY_20240508', 'tpy04_igv_data_20240508.csv')\n",
      "No info or empty file: ('TPY_20240508', 'tpy05_igv_data_20240508.csv')\n",
      "No info or empty file: ('TPY_20240508', 'tpy06_igv_data_20240508.csv')\n",
      "Now processing ---> ('TPY', 'TPY_20240508', 'tpy07_igv_data_20240508.csv')\n",
      "TPY has no map config\n",
      "Now processing ---> ('TPY', 'TPY_20240508', 'tpy08_igv_data_20240508.csv')\n",
      "TPY has no map config\n",
      "Now processing ---> ('TPY', 'TPY_20240508', 'tpy09_igv_data_20240508.csv')\n",
      "TPY has no map config\n",
      "Now processing ---> ('TPY', 'TPY_20240508', 'tpy10_igv_data_20240508.csv')\n",
      "TPY has no map config\n",
      "Now processing ---> ('TPY', 'TPY_20240508', 'tpy11_igv_data_20240508.csv')\n",
      "TPY has no map config\n",
      "Now processing ---> ('TPY', 'TPY_20240508', 'tpy12_igv_data_20240508.csv')\n",
      "TPY has no map config\n",
      "Now processing ---> ('TPY', 'TPY_20240508', 'tpy13_igv_data_20240508.csv')\n",
      "TPY has no map config\n",
      "No info or empty file: ('TPY_20240508', 'tpy14_igv_data_20240508.csv')\n",
      "Now processing ---> ('TPY', 'TPY_20240508', 'tpy15_igv_data_20240508.csv')\n",
      "TPY has no map config\n",
      "Now processing ---> ('TPY', 'TPY_20240508', 'tpy16_igv_data_20240508.csv')\n",
      "TPY has no map config\n",
      "Now processing ---> ('TPY', 'TPY_20240508', 'tpy17_igv_data_20240508.csv')\n",
      "TPY has no map config\n",
      "No info or empty file: ('TPY_20240508', 'tpy18_igv_data_20240508.csv')\n",
      "Now processing ---> ('TPY', 'TPY_20240508', 'tpy19_igv_data_20240508.csv')\n",
      "TPY has no map config\n",
      "Now processing ---> ('TPY', 'TPY_20240508', 'tpy20_igv_data_20240508.csv')\n",
      "TPY has no map config\n",
      "No info or empty file: ('TPY_20240508', 'tpy21_igv_data_20240508.csv')\n",
      "Now processing ---> ('TPY', 'TPY_20240508', 'tpy22_igv_data_20240508.csv')\n",
      "TPY has no map config\n",
      "Now processing ---> ('TPY', 'TPY_20240508', 'tpy23_igv_data_20240508.csv')\n",
      "TPY has no map config\n",
      "Now processing ---> ('TPY', 'TPY_20240508', 'tpy24_igv_data_20240508.csv')\n",
      "TPY has no map config\n",
      "Now processing ---> ('YH', 'YH_20240508', '981_igv_data_20240508.csv')\n",
      "YH has no map config\n",
      "Now processing ---> ('YH', 'YH_20240508', '982_igv_data_20240508.csv')\n",
      "YH has no map config\n",
      "Now processing ---> ('YH', 'YH_20240508', '983_igv_data_20240508.csv')\n",
      "YH has no map config\n",
      "Now processing ---> ('YH', 'YH_20240508', '984_igv_data_20240508.csv')\n",
      "YH has no map config\n",
      "Now processing ---> ('YH', 'YH_20240508', '985_igv_data_20240508.csv')\n",
      "YH has no map config\n",
      "No info or empty file: ('YH_20240508', '986_igv_data_20240508.csv')\n",
      "Now processing ---> ('YH', 'YH_20240508', '987_igv_data_20240508.csv')\n",
      "YH has no map config\n",
      "Now processing ---> ('YH', 'YH_20240508', '988_igv_data_20240508.csv')\n",
      "YH has no map config\n",
      "Now processing ---> ('YH', 'YH_20240508', '989_igv_data_20240508.csv')\n",
      "YH has no map config\n",
      "No info or empty file: ('YH_20240508', '990_igv_data_20240508.csv')\n",
      "Now processing ---> ('YH', 'YH_20240508', '991_igv_data_20240508.csv')\n",
      "YH has no map config\n",
      "No info or empty file: ('YH_20240508', '992_igv_data_20240508.csv')\n",
      "Created directory: c:\\Users\\westwell\\Documents\\.WorkDocuments\\github\\westwell_da\\data\\processed\\W98\\TPY\n",
      "File exported to: c:\\Users\\westwell\\Documents\\.WorkDocuments\\github\\westwell_da\\data\\processed\\W98\\TPY\\IgvData_TPY_20240508.csv\n",
      "Weekly file exported to: c:\\Users\\westwell\\Documents\\.WorkDocuments\\github\\westwell_da\\data\\processed\\W98\\IGV_W98_TPY.csv\n",
      "\n",
      "Created directory: c:\\Users\\westwell\\Documents\\.WorkDocuments\\github\\westwell_da\\data\\processed\\W98\\TS\n",
      "Too litte info to extract and form a weekly file.\n",
      "Already exists: c:\\Users\\westwell\\Documents\\.WorkDocuments\\github\\westwell_da\\data\\processed\\W98\\YH\\IgvData_YH_20240508.csv. Skipping export.\n",
      "Too litte info to extract and form a weekly file.\n"
     ]
    }
   ],
   "source": [
    "import os\n",
    "import pandas as pd\n",
    "from modules.data_pipeline import process_data, get_path, export_file\n",
    "\n",
    "export_file.export_to_csv('98', 'igv')\n",
    "# dict = process_data.read(99, 'igv')\n",
    "# paths = get_path.get(99,'igv')"
   ]
  },
  {
   "cell_type": "code",
   "execution_count": null,
   "metadata": {},
   "outputs": [],
   "source": [
    "not os.path.exists('c:\\\\Users\\\\westwell\\\\Documents\\\\.WorkDocuments\\\\github\\\\westwell_da\\\\data\\\\raw\\\\W99\\\\ck20240408\\\\V001_IGVData_KPI.csv')"
   ]
  },
  {
   "cell_type": "code",
   "execution_count": null,
   "metadata": {},
   "outputs": [],
   "source": [
    "for project, project_p in paths.items():\n",
    "    print('\\n\\n', project)\n",
    "    for filename, path in project_p.items():\n",
    "        print(filename)\n",
    "        print(path)"
   ]
  },
  {
   "cell_type": "code",
   "execution_count": null,
   "metadata": {},
   "outputs": [],
   "source": [
    "for project, project_dict in dict.items():\n",
    "    print(project)\n",
    "    for filename in project_dict.keys():\n",
    "        print(filename)\n",
    "        for df in project_dict[filename]:\n",
    "            display(df.head(1))\n",
    "        "
   ]
  },
  {
   "cell_type": "code",
   "execution_count": null,
   "metadata": {},
   "outputs": [],
   "source": [
    "import pandas as pd\n",
    "\n",
    "def __strip_str__(df=pd.DataFrame):\n",
    "    \"\"\"\n",
    "    Strip leading and trailing whitespaces from column names and string columns.\n",
    "\n",
    "    Parameters:\n",
    "    DataFrame (pd.DataFrame): Input DataFrame. \n",
    "\n",
    "    Returns:\n",
    "    pd.DataFrame: DataFrame with leading and trailing whitespaces stripped from column names and string columns.\n",
    "    \"\"\"\n",
    "    df.columns = df.columns.str.strip()\n",
    "    \n",
    "    # Select columns of type 'object'\n",
    "    obj_cols = df.select_dtypes(['object']).columns\n",
    "    \n",
    "    # Strip leading and trailing whitespaces from string columns\n",
    "    df[obj_cols] = df[obj_cols].apply(lambda x: x.str.strip())\n",
    "\n",
    "    return df\n",
    "\n",
    "# p = \"C:\\\\Users\\westwell\\Documents\\.WorkDocuments\\github\\westwell_da\\data\\\\raw\\W99\\TJ20240409-0410kpi\\A023_IGVData_KPI.csv\"\n",
    "# p = \"C:\\\\Users\\westwell\\Documents\\.WorkDocuments\\github\\westwell_da\\data\\\\raw\\W99\\\\tpy20240409\\\\tpy06_IGVData.csv\"\n",
    "# p = \"C:\\\\Users\\westwell\\Documents\\.WorkDocuments\\github\\westwell_da\\data\\\\raw\\W99\\\\WH20240408\\宝旺8号\\TD002_IGVData_KPI.csv\"\n",
    "# p = \"C:\\\\Users\\westwell\\Documents\\.WorkDocuments\\github\\westwell_da\\data\\\\raw\\W99\\TS20240411\\\\556_IGVData.csv\"\n",
    "p = \"C:\\\\Users\\westwell\\Documents\\.WorkDocuments\\github\\westwell_da\\data\\\\raw\\W99\\dl_20240408\\dlqt_2_IGVData_KPI.csv\"\n",
    "\n",
    "df = pd.read_csv(p)\n",
    "df = __strip_str__(df)\n",
    "\n",
    "display(df['vesselVisitID'].value_counts().index.tolist(), df.shape)\n",
    "\n",
    "data = df.copy()\n",
    "val_to_drop = ['None', '']\n",
    "data = data[data['vesselVisitID'].isin(val_to_drop)==False]\n",
    "\n",
    "display(data['vesselVisitID'].value_counts().index.tolist(), data.shape)"
   ]
  },
  {
   "cell_type": "code",
   "execution_count": null,
   "metadata": {},
   "outputs": [],
   "source": [
    "p = 'c:\\\\Users\\westwell\\Documents\\.WorkDocuments\\github\\westwell_da\\data\\processed\\W99\\Igv_W99_TJ.csv'\n",
    "p = os.path.abspath(p)\n",
    "\n",
    "df = pd.read_csv(p, encoding='utf-8-sig', index_col=0)\n",
    "df.columns"
   ]
  },
  {
   "cell_type": "code",
   "execution_count": null,
   "metadata": {},
   "outputs": [],
   "source": [
    "def lmd_get_current_task_tag(current_task=str, mission_type=str, location_ref=str):\n",
    "    if (current_task != 'DSCH') & (current_task != 'LOAD'):\n",
    "        if ('YARD' in location_ref and mission_type=='DELIVER') or ('QC' in location_ref and mission_type=='RECEIVE'):\n",
    "            return 'DSCH'\n",
    "        elif('QC' in location_ref and mission_type=='DELIVER') or ('YARD' in location_ref and mission_type=='RECEIVE'):\n",
    "            return 'LOAD'      \n",
    "    else:\n",
    "        return current_task\n",
    "    \n",
    "df['current_task_tag'] = df.apply(\n",
    "                    lambda x: lmd_get_current_task_tag(x['current_task'], x['mission_type'], x['location_ref']),\n",
    "                    axis=1)\n",
    "\n",
    "\n",
    "df.columns"
   ]
  },
  {
   "cell_type": "markdown",
   "metadata": {},
   "source": [
    "# Test all weekly file"
   ]
  },
  {
   "cell_type": "code",
   "execution_count": null,
   "metadata": {},
   "outputs": [],
   "source": [
    "import os\n",
    "import pandas as pd\n",
    "import numpy as np\n",
    "\n",
    "def get_all_weekly_file():\n",
    "    root = 'c:\\\\Users\\westwell\\Documents\\.WorkDocuments\\github\\westwell_da\\data\\processed\\W99'\n",
    "    pathlist = []\n",
    "    for item in os.listdir(root):\n",
    "        p = os.path.join(root, item)\n",
    "        if os.path.isfile(p):\n",
    "            pathlist.append(p)\n",
    "    return pathlist\n",
    "\n",
    "def lmd_rtg_operation(location_ref=str, task_stage=str):\n",
    "    if ('YARD' in location_ref) & (task_stage=='Waiting for Operation'):\n",
    "        return 'Waiting for Operation'\n",
    "    else:\n",
    "        return np.NaN\n",
    "\n",
    "li = get_all_weekly_file()"
   ]
  },
  {
   "cell_type": "code",
   "execution_count": null,
   "metadata": {},
   "outputs": [],
   "source": [
    "for p in li:\n",
    "    print(p)\n",
    "\n",
    "    df = pd.read_csv(p, encoding='utf-8-sig', index_col=0)\n",
    "\n",
    "    print(df.columns)\n",
    "    print()"
   ]
  },
  {
   "cell_type": "code",
   "execution_count": null,
   "metadata": {},
   "outputs": [],
   "source": [
    "df.columns\n"
   ]
  },
  {
   "cell_type": "code",
   "execution_count": null,
   "metadata": {},
   "outputs": [],
   "source": [
    "df['task_stage'].value_counts().index.tolist()"
   ]
  },
  {
   "cell_type": "code",
   "execution_count": null,
   "metadata": {},
   "outputs": [],
   "source": [
    "path = os.path.abspath('c:\\\\Users\\westwell\\Documents\\.WorkDocuments\\github\\westwell_da\\data\\processed\\W17\\Igv_W17_TPY.csv')\n",
    "\n",
    "d = pd.read_csv(path, encoding='utf-8-sig')\n",
    "d.columns"
   ]
  },
  {
   "cell_type": "code",
   "execution_count": null,
   "metadata": {},
   "outputs": [],
   "source": [
    "def lambda_power_usage(soc_diff):\n",
    "    if soc_diff > 0 and soc_diff<=5: return soc_diff\n",
    "    elif soc_diff<=0 and soc_diff>-5: return 0\n",
    "    elif soc_diff >5: return 5\n",
    "    elif soc_diff<=-5: return -1\n",
    "\n",
    "\n",
    "for vehicle, d2 in d.groupby('vehicle_id'):\n",
    "    for cycle, data in d2.groupby('Cycle Tag'):\n",
    "        data['soc_diff'] = data['soc'] - data['soc'].shift(-1)\n",
    "        data['power_usage'] = data['soc_diff'].apply(lambda x: lambda_power_usage(x))\n",
    "        print( data['soc_diff'].value_counts().index.tolist(),\n",
    "              data['power_usage'].value_counts().index.tolist())\n",
    "        print()"
   ]
  },
  {
   "cell_type": "code",
   "execution_count": null,
   "metadata": {},
   "outputs": [],
   "source": []
  },
  {
   "cell_type": "code",
   "execution_count": null,
   "metadata": {},
   "outputs": [],
   "source": []
  }
 ],
 "metadata": {
  "kernelspec": {
   "display_name": "base",
   "language": "python",
   "name": "python3"
  },
  "language_info": {
   "codemirror_mode": {
    "name": "ipython",
    "version": 3
   },
   "file_extension": ".py",
   "mimetype": "text/x-python",
   "name": "python",
   "nbconvert_exporter": "python",
   "pygments_lexer": "ipython3",
   "version": "3.11.5"
  }
 },
 "nbformat": 4,
 "nbformat_minor": 2
}
