{
 "cells": [
  {
   "cell_type": "code",
   "execution_count": 3,
   "metadata": {},
   "outputs": [
    {
     "name": "stdout",
     "output_type": "stream",
     "text": [
      "Created directory: c:\\Users\\westwell\\Documents\\.WorkDocuments\\github\\westwell_da\\data\\processed\\W15\\CK\\ERRORData\n",
      "File exported to: c:\\Users\\westwell\\Documents\\.WorkDocuments\\github\\westwell_da\\data\\processed\\W15\\CK\\ERRORData\\ck20240408.csv\n",
      "File exported to: c:\\Users\\westwell\\Documents\\.WorkDocuments\\github\\westwell_da\\data\\processed\\W15\\CK\\ERRORData\\ck20240409.csv\n",
      "File exported to: c:\\Users\\westwell\\Documents\\.WorkDocuments\\github\\westwell_da\\data\\processed\\W15\\CK\\ERRORData\\ck20240410.csv\n",
      "Weekly file exported to: c:\\Users\\westwell\\Documents\\.WorkDocuments\\github\\westwell_da\\data\\processed\\W15\\CK\\ERRORData\\CK_W15_Error.csv\n",
      "\n",
      "Created directory: c:\\Users\\westwell\\Documents\\.WorkDocuments\\github\\westwell_da\\data\\processed\\W15\\DL\\ERRORData\n",
      "File exported to: c:\\Users\\westwell\\Documents\\.WorkDocuments\\github\\westwell_da\\data\\processed\\W15\\DL\\ERRORData\\dl_20240408.csv\n",
      "File exported to: c:\\Users\\westwell\\Documents\\.WorkDocuments\\github\\westwell_da\\data\\processed\\W15\\DL\\ERRORData\\dl_20240410.csv\n",
      "File to small (0, 6), dl_20240411 has no info to extract.\n",
      "Weekly file exported to: c:\\Users\\westwell\\Documents\\.WorkDocuments\\github\\westwell_da\\data\\processed\\W15\\DL\\ERRORData\\DL_W15_Error.csv\n",
      "\n",
      "Created directory: c:\\Users\\westwell\\Documents\\.WorkDocuments\\github\\westwell_da\\data\\processed\\W15\\TPY\\ERRORData\n",
      "File exported to: c:\\Users\\westwell\\Documents\\.WorkDocuments\\github\\westwell_da\\data\\processed\\W15\\TPY\\ERRORData\\tpy20240409.csv\n",
      "File exported to: c:\\Users\\westwell\\Documents\\.WorkDocuments\\github\\westwell_da\\data\\processed\\W15\\TPY\\ERRORData\\tpy20240410.csv\n",
      "Weekly file exported to: c:\\Users\\westwell\\Documents\\.WorkDocuments\\github\\westwell_da\\data\\processed\\W15\\TPY\\ERRORData\\TPY_W15_Error.csv\n",
      "\n",
      "Created directory: c:\\Users\\westwell\\Documents\\.WorkDocuments\\github\\westwell_da\\data\\processed\\W15\\TS\\ERRORData\n",
      "File exported to: c:\\Users\\westwell\\Documents\\.WorkDocuments\\github\\westwell_da\\data\\processed\\W15\\TS\\ERRORData\\TS20240411.csv\n",
      "Weekly file exported to: c:\\Users\\westwell\\Documents\\.WorkDocuments\\github\\westwell_da\\data\\processed\\W15\\TS\\ERRORData\\TS_W15_Error.csv\n",
      "\n",
      "Created directory: c:\\Users\\westwell\\Documents\\.WorkDocuments\\github\\westwell_da\\data\\processed\\W15\\WH\\ERRORData\n",
      "File exported to: c:\\Users\\westwell\\Documents\\.WorkDocuments\\github\\westwell_da\\data\\processed\\W15\\WH\\ERRORData\\乾坤99.csv\n",
      "File exported to: c:\\Users\\westwell\\Documents\\.WorkDocuments\\github\\westwell_da\\data\\processed\\W15\\WH\\ERRORData\\力州国运.csv\n",
      "File exported to: c:\\Users\\westwell\\Documents\\.WorkDocuments\\github\\westwell_da\\data\\processed\\W15\\WH\\ERRORData\\好运达.csv\n",
      "File exported to: c:\\Users\\westwell\\Documents\\.WorkDocuments\\github\\westwell_da\\data\\processed\\W15\\WH\\ERRORData\\顺达和谐.csv\n",
      "File exported to: c:\\Users\\westwell\\Documents\\.WorkDocuments\\github\\westwell_da\\data\\processed\\W15\\WH\\ERRORData\\宝旺8号.csv\n",
      "File exported to: c:\\Users\\westwell\\Documents\\.WorkDocuments\\github\\westwell_da\\data\\processed\\W15\\WH\\ERRORData\\拓海通江.csv\n",
      "File exported to: c:\\Users\\westwell\\Documents\\.WorkDocuments\\github\\westwell_da\\data\\processed\\W15\\WH\\ERRORData\\航龙807.csv\n",
      "File exported to: c:\\Users\\westwell\\Documents\\.WorkDocuments\\github\\westwell_da\\data\\processed\\W15\\WH\\ERRORData\\苏顺发998.csv\n",
      "File exported to: c:\\Users\\westwell\\Documents\\.WorkDocuments\\github\\westwell_da\\data\\processed\\W15\\WH\\ERRORData\\锦钰太仓.csv\n",
      "File exported to: c:\\Users\\westwell\\Documents\\.WorkDocuments\\github\\westwell_da\\data\\processed\\W15\\WH\\ERRORData\\和谐1005.csv\n",
      "File exported to: c:\\Users\\westwell\\Documents\\.WorkDocuments\\github\\westwell_da\\data\\processed\\W15\\WH\\ERRORData\\煜江锦顺.csv\n",
      "Weekly file exported to: c:\\Users\\westwell\\Documents\\.WorkDocuments\\github\\westwell_da\\data\\processed\\W15\\WH\\ERRORData\\WH_W15_Error.csv\n",
      "\n",
      "Created directory: c:\\Users\\westwell\\Documents\\.WorkDocuments\\github\\westwell_da\\data\\processed\\W15\\YH\\ERRORData\n",
      "File exported to: c:\\Users\\westwell\\Documents\\.WorkDocuments\\github\\westwell_da\\data\\processed\\W15\\YH\\ERRORData\\YH20240408.csv\n",
      "File exported to: c:\\Users\\westwell\\Documents\\.WorkDocuments\\github\\westwell_da\\data\\processed\\W15\\YH\\ERRORData\\YH20240409.csv\n",
      "File exported to: c:\\Users\\westwell\\Documents\\.WorkDocuments\\github\\westwell_da\\data\\processed\\W15\\YH\\ERRORData\\YH20240410.csv\n",
      "File exported to: c:\\Users\\westwell\\Documents\\.WorkDocuments\\github\\westwell_da\\data\\processed\\W15\\YH\\ERRORData\\YH20240411.csv\n",
      "Weekly file exported to: c:\\Users\\westwell\\Documents\\.WorkDocuments\\github\\westwell_da\\data\\processed\\W15\\YH\\ERRORData\\YH_W15_Error.csv\n",
      "\n"
     ]
    }
   ],
   "source": [
    "import os\n",
    "import pandas as pd\n",
    "from src.processer_file import read_path as reader\n",
    "from src.processer_file import get_path \n",
    "from src.processer_file import export_file\n",
    "\n",
    "# export_file.export_to_csv(15, 'task')\n",
    "# df_dict = reader.read(16, 'task')\n",
    "\n",
    "# for k,v in df_dict.items():\n",
    "#     print(k)\n",
    "#     for k2, v2 in v.items():\n",
    "#         print(f'{k2, v2.shape}')\n",
    "\n",
    "export_file.export_to_csv(15, 'error')"
   ]
  },
  {
   "cell_type": "code",
   "execution_count": null,
   "metadata": {},
   "outputs": [],
   "source": []
  },
  {
   "cell_type": "code",
   "execution_count": null,
   "metadata": {},
   "outputs": [],
   "source": []
  }
 ],
 "metadata": {
  "kernelspec": {
   "display_name": "base",
   "language": "python",
   "name": "python3"
  },
  "language_info": {
   "codemirror_mode": {
    "name": "ipython",
    "version": 3
   },
   "file_extension": ".py",
   "mimetype": "text/x-python",
   "name": "python",
   "nbconvert_exporter": "python",
   "pygments_lexer": "ipython3",
   "version": "3.11.5"
  }
 },
 "nbformat": 4,
 "nbformat_minor": 2
}
