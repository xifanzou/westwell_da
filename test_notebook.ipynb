{
 "cells": [
  {
   "cell_type": "markdown",
   "metadata": {},
   "source": [
    "# RUN"
   ]
  },
  {
   "cell_type": "code",
   "execution_count": 1,
   "metadata": {},
   "outputs": [
    {
     "data": {
      "text/plain": [
       "{'ICA': {'ica0523': ['c:\\\\Users\\\\westwell\\\\Documents\\\\.WorkDocuments\\\\github\\\\westwell_da\\\\data\\\\raw\\\\W21\\\\ica0523\\\\AT01ErrorHistory.csv',\n",
       "   'c:\\\\Users\\\\westwell\\\\Documents\\\\.WorkDocuments\\\\github\\\\westwell_da\\\\data\\\\raw\\\\W21\\\\ica0523\\\\AT01TaskHistory.csv',\n",
       "   'c:\\\\Users\\\\westwell\\\\Documents\\\\.WorkDocuments\\\\github\\\\westwell_da\\\\data\\\\raw\\\\W21\\\\ica0523\\\\AT02Data.csv',\n",
       "   'c:\\\\Users\\\\westwell\\\\Documents\\\\.WorkDocuments\\\\github\\\\westwell_da\\\\data\\\\raw\\\\W21\\\\ica0523\\\\AT02ErrorHistory.csv',\n",
       "   'c:\\\\Users\\\\westwell\\\\Documents\\\\.WorkDocuments\\\\github\\\\westwell_da\\\\data\\\\raw\\\\W21\\\\ica0523\\\\AT02TaskHistory.csv',\n",
       "   'c:\\\\Users\\\\westwell\\\\Documents\\\\.WorkDocuments\\\\github\\\\westwell_da\\\\data\\\\raw\\\\W21\\\\ica0523\\\\AT06Data.csv',\n",
       "   'c:\\\\Users\\\\westwell\\\\Documents\\\\.WorkDocuments\\\\github\\\\westwell_da\\\\data\\\\raw\\\\W21\\\\ica0523\\\\AT06ErrorHistory.csv',\n",
       "   'c:\\\\Users\\\\westwell\\\\Documents\\\\.WorkDocuments\\\\github\\\\westwell_da\\\\data\\\\raw\\\\W21\\\\ica0523\\\\AT06TaskHistory.csv']},\n",
       " 'TS': {'TS20240521': ['c:\\\\Users\\\\westwell\\\\Documents\\\\.WorkDocuments\\\\github\\\\westwell_da\\\\data\\\\raw\\\\W21\\\\TS20240521\\\\561_VehicleData_TS.csv',\n",
       "   'c:\\\\Users\\\\westwell\\\\Documents\\\\.WorkDocuments\\\\github\\\\westwell_da\\\\data\\\\raw\\\\W21\\\\TS20240521\\\\562_VehicleData_TS.csv',\n",
       "   'c:\\\\Users\\\\westwell\\\\Documents\\\\.WorkDocuments\\\\github\\\\westwell_da\\\\data\\\\raw\\\\W21\\\\TS20240521\\\\568_VehicleData_TS.csv',\n",
       "   'c:\\\\Users\\\\westwell\\\\Documents\\\\.WorkDocuments\\\\github\\\\westwell_da\\\\data\\\\raw\\\\W21\\\\TS20240521\\\\570_VehicleData_TS.csv',\n",
       "   'c:\\\\Users\\\\westwell\\\\Documents\\\\.WorkDocuments\\\\github\\\\westwell_da\\\\data\\\\raw\\\\W21\\\\TS20240521\\\\571_VehicleData_TS.csv',\n",
       "   'c:\\\\Users\\\\westwell\\\\Documents\\\\.WorkDocuments\\\\github\\\\westwell_da\\\\data\\\\raw\\\\W21\\\\TS20240521\\\\572_VehicleData_TS.csv',\n",
       "   'c:\\\\Users\\\\westwell\\\\Documents\\\\.WorkDocuments\\\\github\\\\westwell_da\\\\data\\\\raw\\\\W21\\\\TS20240521\\\\573_VehicleData_TS.csv',\n",
       "   'c:\\\\Users\\\\westwell\\\\Documents\\\\.WorkDocuments\\\\github\\\\westwell_da\\\\data\\\\raw\\\\W21\\\\TS20240521\\\\575_VehicleData_TS(1).csv',\n",
       "   'c:\\\\Users\\\\westwell\\\\Documents\\\\.WorkDocuments\\\\github\\\\westwell_da\\\\data\\\\raw\\\\W21\\\\TS20240521\\\\575_VehicleData_TS.csv']},\n",
       " 'YH': {'YH-20240524': ['c:\\\\Users\\\\westwell\\\\Documents\\\\.WorkDocuments\\\\github\\\\westwell_da\\\\data\\\\raw\\\\W21\\\\YH-20240524\\\\981Data.csv',\n",
       "   'c:\\\\Users\\\\westwell\\\\Documents\\\\.WorkDocuments\\\\github\\\\westwell_da\\\\data\\\\raw\\\\W21\\\\YH-20240524\\\\981ErrorHistory.csv',\n",
       "   'c:\\\\Users\\\\westwell\\\\Documents\\\\.WorkDocuments\\\\github\\\\westwell_da\\\\data\\\\raw\\\\W21\\\\YH-20240524\\\\981TaskHistory.csv',\n",
       "   'c:\\\\Users\\\\westwell\\\\Documents\\\\.WorkDocuments\\\\github\\\\westwell_da\\\\data\\\\raw\\\\W21\\\\YH-20240524\\\\982ErrorHistory.csv',\n",
       "   'c:\\\\Users\\\\westwell\\\\Documents\\\\.WorkDocuments\\\\github\\\\westwell_da\\\\data\\\\raw\\\\W21\\\\YH-20240524\\\\982TaskHistory.csv',\n",
       "   'c:\\\\Users\\\\westwell\\\\Documents\\\\.WorkDocuments\\\\github\\\\westwell_da\\\\data\\\\raw\\\\W21\\\\YH-20240524\\\\985ErrorHistory.csv',\n",
       "   'c:\\\\Users\\\\westwell\\\\Documents\\\\.WorkDocuments\\\\github\\\\westwell_da\\\\data\\\\raw\\\\W21\\\\YH-20240524\\\\986ErrorHistory.csv',\n",
       "   'c:\\\\Users\\\\westwell\\\\Documents\\\\.WorkDocuments\\\\github\\\\westwell_da\\\\data\\\\raw\\\\W21\\\\YH-20240524\\\\987Data (1).csv',\n",
       "   'c:\\\\Users\\\\westwell\\\\Documents\\\\.WorkDocuments\\\\github\\\\westwell_da\\\\data\\\\raw\\\\W21\\\\YH-20240524\\\\987Data (2).csv',\n",
       "   'c:\\\\Users\\\\westwell\\\\Documents\\\\.WorkDocuments\\\\github\\\\westwell_da\\\\data\\\\raw\\\\W21\\\\YH-20240524\\\\987Data.csv',\n",
       "   'c:\\\\Users\\\\westwell\\\\Documents\\\\.WorkDocuments\\\\github\\\\westwell_da\\\\data\\\\raw\\\\W21\\\\YH-20240524\\\\987TaskHistory (1).csv',\n",
       "   'c:\\\\Users\\\\westwell\\\\Documents\\\\.WorkDocuments\\\\github\\\\westwell_da\\\\data\\\\raw\\\\W21\\\\YH-20240524\\\\987TaskHistory.csv',\n",
       "   'c:\\\\Users\\\\westwell\\\\Documents\\\\.WorkDocuments\\\\github\\\\westwell_da\\\\data\\\\raw\\\\W21\\\\YH-20240524\\\\988Data.csv',\n",
       "   'c:\\\\Users\\\\westwell\\\\Documents\\\\.WorkDocuments\\\\github\\\\westwell_da\\\\data\\\\raw\\\\W21\\\\YH-20240524\\\\988ErrorHistory.csv',\n",
       "   'c:\\\\Users\\\\westwell\\\\Documents\\\\.WorkDocuments\\\\github\\\\westwell_da\\\\data\\\\raw\\\\W21\\\\YH-20240524\\\\988TaskHistory.csv',\n",
       "   'c:\\\\Users\\\\westwell\\\\Documents\\\\.WorkDocuments\\\\github\\\\westwell_da\\\\data\\\\raw\\\\W21\\\\YH-20240524\\\\991Data.csv',\n",
       "   'c:\\\\Users\\\\westwell\\\\Documents\\\\.WorkDocuments\\\\github\\\\westwell_da\\\\data\\\\raw\\\\W21\\\\YH-20240524\\\\991ErrorHistory.csv',\n",
       "   'c:\\\\Users\\\\westwell\\\\Documents\\\\.WorkDocuments\\\\github\\\\westwell_da\\\\data\\\\raw\\\\W21\\\\YH-20240524\\\\991TaskHistory.csv',\n",
       "   'c:\\\\Users\\\\westwell\\\\Documents\\\\.WorkDocuments\\\\github\\\\westwell_da\\\\data\\\\raw\\\\W21\\\\YH-20240524\\\\992Data.csv',\n",
       "   'c:\\\\Users\\\\westwell\\\\Documents\\\\.WorkDocuments\\\\github\\\\westwell_da\\\\data\\\\raw\\\\W21\\\\YH-20240524\\\\992ErrorHistory.csv',\n",
       "   'c:\\\\Users\\\\westwell\\\\Documents\\\\.WorkDocuments\\\\github\\\\westwell_da\\\\data\\\\raw\\\\W21\\\\YH-20240524\\\\992TaskHistory.csv']}}"
      ]
     },
     "execution_count": 1,
     "metadata": {},
     "output_type": "execute_result"
    }
   ],
   "source": [
    "import os\n",
    "import pandas as pd\n",
    "from modules.data_pipeline import process_data, get_path, export_file\n",
    "\n",
    "# export_file.export_to_csv('21', 'igv')\n",
    "\n",
    "# dict = process_data.read(99, 'igv')\n",
    "paths = get_path.get(21,'igv')\n"
   ]
  },
  {
   "cell_type": "markdown",
   "metadata": {},
   "source": [
    "# Test all weekly file"
   ]
  },
  {
   "cell_type": "code",
   "execution_count": 2,
   "metadata": {},
   "outputs": [],
   "source": [
    "import os\n",
    "import pandas as pd\n",
    "import numpy as np\n",
    "\n",
    "def get_all_weekly_file():\n",
    "    root = 'c:\\\\Users\\westwell\\Documents\\.WorkDocuments\\github\\westwell_da\\data\\processed\\W99'\n",
    "    pathlist = []\n",
    "    for item in os.listdir(root):\n",
    "        p = os.path.join(root, item)\n",
    "        if os.path.isfile(p):\n",
    "            pathlist.append(p)\n",
    "    return pathlist\n",
    "\n",
    "def lmd_rtg_operation(location_ref=str, task_stage=str):\n",
    "    if ('YARD' in location_ref) & (task_stage=='Waiting for Operation'):\n",
    "        return 'Waiting for Operation'\n",
    "    else:\n",
    "        return np.NaN\n",
    "\n",
    "li = get_all_weekly_file()"
   ]
  },
  {
   "cell_type": "code",
   "execution_count": 3,
   "metadata": {},
   "outputs": [
    {
     "name": "stdout",
     "output_type": "stream",
     "text": [
      "c:\\Users\\westwell\\Documents\\.WorkDocuments\\github\\westwell_da\\data\\processed\\W99\\Igv_W99_CK.csv\n",
      "Index(['vehicle_id', 'position_x', 'position_y', 'position_z', 'heading',\n",
      "       'speed', 'speed_command', 'mileage_distance', 'power_on_time', 'soc',\n",
      "       'fuel_level', 'local_time', 'chassis_mode', 'estop', 'charge_status',\n",
      "       'task_state_running', 'task_state_estop', 'task_stage', 'current_task',\n",
      "       'error_code', 'vehicle_mode', 'project', 'week'],\n",
      "      dtype='object')\n",
      "\n",
      "c:\\Users\\westwell\\Documents\\.WorkDocuments\\github\\westwell_da\\data\\processed\\W99\\Igv_W99_DL.csv\n",
      "Index(['vehicle_id', 'position_x', 'position_y', 'position_z', 'heading',\n",
      "       'speed', 'speed_command', 'mileage_distance', 'power_on_time', 'soc',\n",
      "       'fuel_level', 'local_time', 'chassis_mode', 'estop', 'charge_status',\n",
      "       'task_state_running', 'task_state_estop', 'task_state_lock',\n",
      "       'task_stage', 'current_task', 'error_code', 'target_location',\n",
      "       'vesselVisitID', 'mission_type', 'container1_type', 'container2_type',\n",
      "       'vehicle_mode', 'missionID', 'project', 'week', 'location_ref',\n",
      "       'location_tag', 'current_task_tag', 'cycle', 'mission_type_change',\n",
      "       'Cycle Tag', 'box', 'TEU', 'container_tag', 'duration_s', 'distance_km',\n",
      "       'Q_mark', 'estop boolean', 'power usage', 'target_chassis'],\n",
      "      dtype='object')\n",
      "\n",
      "c:\\Users\\westwell\\Documents\\.WorkDocuments\\github\\westwell_da\\data\\processed\\W99\\Igv_W99_ICA.csv\n",
      "Index(['vehicle_id', 'position_x', 'position_y', 'position_z', 'heading',\n",
      "       'speed', 'speed_command', 'mileage_distance', 'soc', 'local_time',\n",
      "       'chassis_mode', 'estop', 'charge_status', 'task_state_running',\n",
      "       'task_state_estop', 'task_state_lock', 'task_stage', 'current_task',\n",
      "       'error_code', 'target_location', 'vesselVisitID', 'mission_type',\n",
      "       'container1_type', 'container2_type', 'vehicle_mode', 'missionID',\n",
      "       'lane_change_state', 'project', 'week', 'mission_type_org',\n",
      "       'target_location2', 'current_task_tag', 'location_ref',\n",
      "       'location_block', 'cycle', 'mission_type_change', 'Cycle Tag',\n",
      "       'position_lon', 'position_lat', 'box', 'TEU', 'container_tag',\n",
      "       'power usage', 'duration_s', 'duration_min', 'distance_km', 'Q_mark',\n",
      "       'estop boolean', 'target_chassis', 'location_section', 'SL', 'ckp_demo',\n",
      "       'cut_in', 'cut_out', 'PathA'],\n",
      "      dtype='object')\n",
      "\n",
      "c:\\Users\\westwell\\Documents\\.WorkDocuments\\github\\westwell_da\\data\\processed\\W99\\Igv_W99_TJ.csv\n",
      "Index(['vehicle_id', 'position_x', 'position_y', 'position_z', 'heading',\n",
      "       'speed', 'speed_command', 'mileage_distance', 'power_on_time', 'soc',\n",
      "       'fuel_level', 'local_time', 'chassis_mode', 'estop', 'charge_status',\n",
      "       'task_state_running', 'task_state_estop', 'task_state_lock',\n",
      "       'task_stage', 'current_task', 'error_code', 'target_location',\n",
      "       'vesselVisitID', 'mission_type', 'container1_type', 'container2_type',\n",
      "       'vehicle_mode', 'missionID', 'project', 'week', 'location_ref',\n",
      "       'location_tag', 'current_task_tag', 'cycle', 'mission_type_change',\n",
      "       'Cycle Tag', 'box', 'TEU', 'container_tag', 'duration_s', 'distance_km',\n",
      "       'Q_mark', 'estop boolean', 'power usage', 'target_chassis'],\n",
      "      dtype='object')\n",
      "\n",
      "c:\\Users\\westwell\\Documents\\.WorkDocuments\\github\\westwell_da\\data\\processed\\W99\\Igv_W99_TPY.csv\n",
      "Index(['vehicle_id', 'position_x', 'position_y', 'position_z', 'heading',\n",
      "       'speed', 'speed_command', 'mileage_distance', 'power_on_time', 'soc',\n",
      "       'fuel_level', 'local_time', 'chassis_mode', 'estop', 'charge_status',\n",
      "       'task_state_running', 'task_state_estop', 'task_state_lock',\n",
      "       'task_stage', 'current_task', 'error_code', 'target_location',\n",
      "       'vesselVisitID', 'mission_type', 'container1_type', 'container2_type',\n",
      "       'vehicle_mode', 'missionID', 'container1_id', 'container2_id',\n",
      "       'project', 'week', 'location_ref', 'location_tag', 'current_task_tag',\n",
      "       'cycle', 'mission_type_change', 'Cycle Tag', 'box', 'TEU',\n",
      "       'container_tag', 'duration_s', 'distance_km', 'Q_mark', 'estop boolean',\n",
      "       'power usage', 'target_chassis'],\n",
      "      dtype='object')\n",
      "\n",
      "c:\\Users\\westwell\\Documents\\.WorkDocuments\\github\\westwell_da\\data\\processed\\W99\\Igv_W99_TS.csv\n",
      "Index(['vehicle_id', 'position_x', 'position_y', 'position_z', 'heading',\n",
      "       'speed', 'speed_command', 'mileage_distance', 'power_on_time', 'soc',\n",
      "       'fuel_level', 'local_time', 'chassis_mode', 'estop', 'charge_status',\n",
      "       'task_state_running', 'task_state_estop', 'task_state_lock',\n",
      "       'task_stage', 'current_task', 'error_code', 'target_location',\n",
      "       'vesselVisitID', 'mission_type', 'container1_type', 'container2_type',\n",
      "       'vehicle_mode', 'missionID', 'container1_id', 'container2_id',\n",
      "       'project', 'week', 'location_ref', 'location_tag', 'current_task_tag',\n",
      "       'cycle', 'mission_type_change', 'Cycle Tag', 'box', 'TEU',\n",
      "       'container_tag', 'duration_s', 'distance_km', 'Q_mark', 'estop boolean',\n",
      "       'power usage', 'target_chassis'],\n",
      "      dtype='object')\n",
      "\n",
      "c:\\Users\\westwell\\Documents\\.WorkDocuments\\github\\westwell_da\\data\\processed\\W99\\Igv_W99_WH.csv\n",
      "Index(['vehicle_id', 'position_x', 'position_y', 'position_z', 'heading',\n",
      "       'speed', 'speed_command', 'mileage_distance', 'power_on_time', 'soc',\n",
      "       'fuel_level', 'local_time', 'chassis_mode', 'estop', 'charge_status',\n",
      "       'task_state_running', 'task_state_estop', 'task_state_lock',\n",
      "       'task_stage', 'current_task', 'error_code', 'target_location',\n",
      "       'vesselVisitID', 'mission_type', 'container1_type', 'container2_type',\n",
      "       'vehicle_mode', 'missionID', 'project', 'week', 'location_ref',\n",
      "       'location_tag', 'current_task_tag', 'cycle', 'mission_type_change',\n",
      "       'Cycle Tag', 'box', 'TEU', 'container_tag', 'duration_s', 'distance_km',\n",
      "       'Q_mark', 'estop boolean', 'power usage', 'target_chassis'],\n",
      "      dtype='object')\n",
      "\n",
      "c:\\Users\\westwell\\Documents\\.WorkDocuments\\github\\westwell_da\\data\\processed\\W99\\Igv_W99_YH.csv\n",
      "Index(['vehicle_id', 'position_x', 'position_y', 'position_z', 'heading',\n",
      "       'speed', 'speed_command', 'mileage_distance', 'soc', 'local_time',\n",
      "       'chassis_mode', 'estop', 'charge_status', 'task_state_running',\n",
      "       'task_state_estop', 'task_state_lock', 'task_stage', 'current_task',\n",
      "       'error_code', 'target_location', 'vesselVisitID', 'mission_type',\n",
      "       'container1_type', 'container2_type', 'vehicle_mode', 'missionID',\n",
      "       'lane_change_state', 'project', 'week', 'location_ref', 'location_tag',\n",
      "       'current_task_tag', 'cycle', 'mission_type_change', 'Cycle Tag', 'box',\n",
      "       'TEU', 'container_tag', 'duration_s', 'distance_km', 'Q_mark',\n",
      "       'estop boolean', 'power usage', 'target_chassis'],\n",
      "      dtype='object')\n",
      "\n"
     ]
    }
   ],
   "source": [
    "for p in li:\n",
    "    print(p)\n",
    "\n",
    "    df = pd.read_csv(p, encoding='utf-8-sig', index_col=0)\n",
    "\n",
    "    print(df.columns)\n",
    "    print()"
   ]
  },
  {
   "cell_type": "code",
   "execution_count": null,
   "metadata": {},
   "outputs": [],
   "source": [
    "df.columns\n"
   ]
  },
  {
   "cell_type": "code",
   "execution_count": null,
   "metadata": {},
   "outputs": [],
   "source": [
    "df['task_stage'].value_counts().index.tolist()"
   ]
  },
  {
   "cell_type": "code",
   "execution_count": null,
   "metadata": {},
   "outputs": [],
   "source": [
    "path = os.path.abspath('c:\\\\Users\\westwell\\Documents\\.WorkDocuments\\github\\westwell_da\\data\\processed\\W17\\Igv_W17_TPY.csv')\n",
    "\n",
    "d = pd.read_csv(path, encoding='utf-8-sig')\n",
    "d.columns"
   ]
  },
  {
   "cell_type": "code",
   "execution_count": null,
   "metadata": {},
   "outputs": [],
   "source": [
    "def lambda_power_usage(soc_diff):\n",
    "    if soc_diff > 0 and soc_diff<=5: return soc_diff\n",
    "    elif soc_diff<=0 and soc_diff>-5: return 0\n",
    "    elif soc_diff >5: return 5\n",
    "    elif soc_diff<=-5: return -1\n",
    "\n",
    "\n",
    "for vehicle, d2 in d.groupby('vehicle_id'):\n",
    "    for cycle, data in d2.groupby('Cycle Tag'):\n",
    "        data['soc_diff'] = data['soc'] - data['soc'].shift(-1)\n",
    "        data['power_usage'] = data['soc_diff'].apply(lambda x: lambda_power_usage(x))\n",
    "        print( data['soc_diff'].value_counts().index.tolist(),\n",
    "              data['power_usage'].value_counts().index.tolist())\n",
    "        print()"
   ]
  },
  {
   "cell_type": "markdown",
   "metadata": {},
   "source": [
    "# CKP info extract"
   ]
  },
  {
   "cell_type": "code",
   "execution_count": null,
   "metadata": {},
   "outputs": [],
   "source": [
    "import pandas as pd\n",
    "# display('C:\\\\Users\\westwell\\Documents\\\\.WorkDocuments\\github\\westwell_da\\data\\processed\\W18\\ICA\\IgvData_ica20240504.csv')\n",
    "\n",
    "p = 'C:\\\\Users\\\\westwell\\\\Documents\\\\.WorkDocuments\\\\github\\\\westwell_da\\\\data\\\\processed\\\\W18\\\\ICA\\\\IgvData_ica20240503.csv'\n",
    "\n",
    "d = pd.read_csv(p, index_col=0)\n",
    "display(d.columns)\n",
    "\n",
    "def feature_extraction(group):\n",
    "    duration = group['duration_min'].sum()  # Example feature: sum of duration\n",
    "    vehicle  = group['vehicle_id'].min()\n",
    "    task_type= group['mission_type_org'].min()\n",
    "    start    = group['local_time'].min()\n",
    "    end      = group['local_time'].max()\n",
    "    ck1      = group['local_time']\n",
    "\n",
    "    return pd.Series({'duration_min': duration, \n",
    "                      'AT ID': vehicle,\n",
    "                      'mission_type': task_type,\n",
    "                      'cycle_start':start,\n",
    "                      'cycle_end':  end,\n",
    "                      })\n",
    "\n",
    "\n",
    "grouped = d.groupby('Cycle Tag').apply(feature_extraction)\n",
    "\n",
    "display(grouped.head(1))\n",
    "\n",
    "# Group by 'Cycle Tag' and 'ckp_demo' and find the min of 'local_time'\n",
    "g = d.groupby(['Cycle Tag', 'ckp_demo'])['local_time'].min().reset_index()\n",
    "\n",
    "# Pivot the DataFrame\n",
    "pivoted = g.pivot(index='Cycle Tag', columns='ckp_demo', values='local_time').reset_index()\n",
    "display(pivoted.head(1))\n",
    "\n",
    "merged = pd.merge(grouped, pivoted, on='Cycle Tag', how='left')\n",
    "# merged.to_csv('ckp_info_export_0503.csv',date_format=\"%Y-%m-%d %H:%M:%S\")\n",
    "display(merged)"
   ]
  },
  {
   "cell_type": "code",
   "execution_count": 5,
   "metadata": {},
   "outputs": [
    {
     "name": "stdout",
     "output_type": "stream",
     "text": [
      "Collecting tableauserverclientNote: you may need to restart the kernel to use updated packages.\n"
     ]
    },
    {
     "name": "stderr",
     "output_type": "stream",
     "text": [
      "ERROR: pip's dependency resolver does not currently take into account all the packages that are installed. This behaviour is the source of the following dependency conflicts.\n",
      "flair 0.13.1 requires urllib3<2.0.0,>=1.0.0, but you have urllib3 2.0.7 which is incompatible.\n",
      "pyppeteer 1.0.2 requires urllib3<2.0.0,>=1.25.8, but you have urllib3 2.0.7 which is incompatible.\n"
     ]
    },
    {
     "name": "stdout",
     "output_type": "stream",
     "text": [
      "\n",
      "  Downloading tableauserverclient-0.30-py3-none-any.whl.metadata (4.1 kB)\n",
      "Requirement already satisfied: defusedxml>=0.7.1 in c:\\users\\westwell\\anaconda3\\lib\\site-packages (from tableauserverclient) (0.7.1)\n",
      "Requirement already satisfied: packaging>=23.1 in c:\\users\\westwell\\anaconda3\\lib\\site-packages (from tableauserverclient) (23.1)\n",
      "Requirement already satisfied: requests>=2.31 in c:\\users\\westwell\\anaconda3\\lib\\site-packages (from tableauserverclient) (2.31.0)\n",
      "Collecting urllib3==2.0.7 (from tableauserverclient)\n",
      "  Downloading urllib3-2.0.7-py3-none-any.whl.metadata (6.6 kB)\n",
      "Requirement already satisfied: charset-normalizer<4,>=2 in c:\\users\\westwell\\anaconda3\\lib\\site-packages (from requests>=2.31->tableauserverclient) (2.0.4)\n",
      "Requirement already satisfied: idna<4,>=2.5 in c:\\users\\westwell\\anaconda3\\lib\\site-packages (from requests>=2.31->tableauserverclient) (3.4)\n",
      "Requirement already satisfied: certifi>=2017.4.17 in c:\\users\\westwell\\anaconda3\\lib\\site-packages (from requests>=2.31->tableauserverclient) (2023.7.22)\n",
      "Downloading tableauserverclient-0.30-py3-none-any.whl (137 kB)\n",
      "   ---------------------------------------- 0.0/137.7 kB ? eta -:--:--\n",
      "   -- ------------------------------------- 10.2/137.7 kB ? eta -:--:--\n",
      "   -------------- ------------------------ 51.2/137.7 kB 650.2 kB/s eta 0:00:01\n",
      "   ---------------------------- --------- 102.4/137.7 kB 837.8 kB/s eta 0:00:01\n",
      "   -------------------------------------- 137.7/137.7 kB 811.9 kB/s eta 0:00:00\n",
      "Downloading urllib3-2.0.7-py3-none-any.whl (124 kB)\n",
      "   ---------------------------------------- 0.0/124.2 kB ? eta -:--:--\n",
      "   --------- ------------------------------ 30.7/124.2 kB ? eta -:--:--\n",
      "   --------- ------------------------------ 30.7/124.2 kB ? eta -:--:--\n",
      "   ---------------------------------------  122.9/124.2 kB 1.2 MB/s eta 0:00:01\n",
      "   -------------------------------------- 124.2/124.2 kB 808.3 kB/s eta 0:00:00\n",
      "Installing collected packages: urllib3, tableauserverclient\n",
      "  Attempting uninstall: urllib3\n",
      "    Found existing installation: urllib3 1.26.16\n",
      "    Uninstalling urllib3-1.26.16:\n",
      "      Successfully uninstalled urllib3-1.26.16\n",
      "Successfully installed tableauserverclient-0.30 urllib3-2.0.7\n"
     ]
    }
   ],
   "source": [
    "pip install tableauserverclient\n"
   ]
  },
  {
   "cell_type": "code",
   "execution_count": null,
   "metadata": {},
   "outputs": [],
   "source": []
  }
 ],
 "metadata": {
  "kernelspec": {
   "display_name": "base",
   "language": "python",
   "name": "python3"
  },
  "language_info": {
   "codemirror_mode": {
    "name": "ipython",
    "version": 3
   },
   "file_extension": ".py",
   "mimetype": "text/x-python",
   "name": "python",
   "nbconvert_exporter": "python",
   "pygments_lexer": "ipython3",
   "version": "3.11.5"
  }
 },
 "nbformat": 4,
 "nbformat_minor": 2
}
