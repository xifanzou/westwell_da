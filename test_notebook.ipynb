{
 "cells": [
  {
   "cell_type": "code",
   "execution_count": 1,
   "metadata": {},
   "outputs": [
    {
     "name": "stdout",
     "output_type": "stream",
     "text": [
      "Before filter: (12800, 28)\n",
      "After filter (5723, 21)\n",
      "Now processing ---> ('CK', 'ck20240408', 'V001_IGVData_KPI.csv')\n",
      "Before filter: (12800, 28)\n",
      "After filter (6377, 21)\n",
      "Now processing ---> ('CK', 'ck20240408', 'V002_IGVData_KPI.csv')\n",
      "Before filter: (12800, 28)\n",
      "After filter (3258, 21)\n",
      "Now processing ---> ('CK', 'ck20240408', 'V003_IGVData_KPI.csv')\n",
      "Before filter: (12800, 28)\n",
      "After filter (3563, 21)\n",
      "Now processing ---> ('CK', 'ck20240408', 'V004_IGVData_KPI.csv')\n",
      "Before filter: (12800, 28)\n",
      "After filter (3956, 21)\n",
      "Now processing ---> ('CK', 'ck20240408', 'V005_IGVData_KPI.csv')\n",
      "Before filter: (11802, 28)\n",
      "After filter (4620, 21)\n",
      "Now processing ---> ('CK', 'ck20240408', 'V006_IGVData_KPI.csv')\n",
      "Before filter: (12781, 28)\n",
      "After filter (3228, 21)\n",
      "Now processing ---> ('CK', 'ck20240408', 'V008_IGVData_KPI.csv')\n",
      "Before filter: (12800, 28)\n",
      "After filter (2800, 21)\n",
      "Now processing ---> ('CK', 'ck20240408', 'V009_IGVData_KPI.csv')\n",
      "Before filter: (12553, 28)\n",
      "After filter (3904, 21)\n",
      "Now processing ---> ('CK', 'ck20240408', 'V010_IGVData_KPI.csv')\n",
      "Before filter: (12800, 28)\n",
      "After filter (913, 21)\n",
      "Now processing ---> ('CK', 'ck20240408', 'V011_IGVData_KPI.csv')\n",
      "Before filter: (12800, 28)\n",
      "After filter (2945, 21)\n",
      "Now processing ---> ('CK', 'ck20240408', 'V012_IGVData_KPI.csv')\n",
      "Before filter: (12800, 28)\n",
      "After filter (3239, 21)\n",
      "Now processing ---> ('CK', 'ck20240408', 'V013_IGVData_KPI.csv')\n",
      "Before filter: (12792, 28)\n",
      "After filter (2565, 21)\n",
      "Now processing ---> ('CK', 'ck20240408', 'V014_IGVData_KPI.csv')\n",
      "Before filter: (12800, 28)\n",
      "After filter (6034, 21)\n",
      "Now processing ---> ('CK', 'ck20240408', 'V015_IGVData_KPI.csv')\n",
      "Before filter: (12800, 28)\n",
      "After filter (5559, 21)\n",
      "Now processing ---> ('CK', 'ck20240408', 'V017_IGVData_KPI.csv')\n",
      "Before filter: (12800, 28)\n",
      "After filter (6286, 21)\n",
      "Now processing ---> ('CK', 'ck20240408', 'V018_IGVData_KPI.csv')\n",
      "Before filter: (12005, 28)\n",
      "After filter (5545, 21)\n",
      "Now processing ---> ('CK', 'ck20240408', 'V020_IGVData_KPI.csv')\n",
      "Before filter: (12800, 28)\n",
      "After filter (6021, 21)\n",
      "Now processing ---> ('CK', 'ck20240408', 'V022_IGVData_KPI.csv')\n",
      "Before filter: (12800, 28)\n",
      "After filter (8063, 21)\n",
      "Now processing ---> ('CK', 'ck20240408', 'V023_IGVData_KPI.csv')\n",
      "Before filter: (12800, 28)\n",
      "After filter (3409, 21)\n",
      "Now processing ---> ('CK', 'ck20240408', 'V024_IGVData_KPI.csv')\n",
      "Before filter: (12800, 28)\n",
      "After filter (3217, 21)\n",
      "Now processing ---> ('CK', 'ck20240408', 'V025_IGVData_KPI.csv')\n",
      "Before filter: (17121, 28)\n",
      "After filter (16800, 28)\n",
      "Now processing ---> ('DL', 'dl_20240408', 'dlqt1_IGVData_KPI.csv')\n"
     ]
    },
    {
     "ename": "KeyError",
     "evalue": "'distance(m)'",
     "output_type": "error",
     "traceback": [
      "\u001b[1;31m---------------------------------------------------------------------------\u001b[0m",
      "\u001b[1;31mKeyError\u001b[0m                                  Traceback (most recent call last)",
      "File \u001b[1;32mc:\\Users\\westwell\\anaconda3\\Lib\\site-packages\\pandas\\core\\indexes\\base.py:3653\u001b[0m, in \u001b[0;36mIndex.get_loc\u001b[1;34m(self, key)\u001b[0m\n\u001b[0;32m   3652\u001b[0m \u001b[38;5;28;01mtry\u001b[39;00m:\n\u001b[1;32m-> 3653\u001b[0m     \u001b[38;5;28;01mreturn\u001b[39;00m \u001b[38;5;28mself\u001b[39m\u001b[38;5;241m.\u001b[39m_engine\u001b[38;5;241m.\u001b[39mget_loc(casted_key)\n\u001b[0;32m   3654\u001b[0m \u001b[38;5;28;01mexcept\u001b[39;00m \u001b[38;5;167;01mKeyError\u001b[39;00m \u001b[38;5;28;01mas\u001b[39;00m err:\n",
      "File \u001b[1;32mc:\\Users\\westwell\\anaconda3\\Lib\\site-packages\\pandas\\_libs\\index.pyx:147\u001b[0m, in \u001b[0;36mpandas._libs.index.IndexEngine.get_loc\u001b[1;34m()\u001b[0m\n",
      "File \u001b[1;32mc:\\Users\\westwell\\anaconda3\\Lib\\site-packages\\pandas\\_libs\\index.pyx:176\u001b[0m, in \u001b[0;36mpandas._libs.index.IndexEngine.get_loc\u001b[1;34m()\u001b[0m\n",
      "File \u001b[1;32mpandas\\_libs\\hashtable_class_helper.pxi:7080\u001b[0m, in \u001b[0;36mpandas._libs.hashtable.PyObjectHashTable.get_item\u001b[1;34m()\u001b[0m\n",
      "File \u001b[1;32mpandas\\_libs\\hashtable_class_helper.pxi:7088\u001b[0m, in \u001b[0;36mpandas._libs.hashtable.PyObjectHashTable.get_item\u001b[1;34m()\u001b[0m\n",
      "\u001b[1;31mKeyError\u001b[0m: 'distance(m)'",
      "\nThe above exception was the direct cause of the following exception:\n",
      "\u001b[1;31mKeyError\u001b[0m                                  Traceback (most recent call last)",
      "Cell \u001b[1;32mIn[1], line 5\u001b[0m\n\u001b[0;32m      2\u001b[0m \u001b[38;5;28;01mimport\u001b[39;00m \u001b[38;5;21;01mpandas\u001b[39;00m \u001b[38;5;28;01mas\u001b[39;00m \u001b[38;5;21;01mpd\u001b[39;00m\n\u001b[0;32m      3\u001b[0m \u001b[38;5;28;01mfrom\u001b[39;00m \u001b[38;5;21;01mmodules\u001b[39;00m\u001b[38;5;21;01m.\u001b[39;00m\u001b[38;5;21;01mdata_pipeline\u001b[39;00m \u001b[38;5;28;01mimport\u001b[39;00m read_path, get_path, export_file\n\u001b[1;32m----> 5\u001b[0m export_file\u001b[38;5;241m.\u001b[39mexport_to_csv(\u001b[38;5;241m99\u001b[39m, \u001b[38;5;124m'\u001b[39m\u001b[38;5;124migv\u001b[39m\u001b[38;5;124m'\u001b[39m)\n",
      "File \u001b[1;32mc:\\Users\\westwell\\Documents\\.WorkDocuments\\github\\westwell_da\\modules\\data_pipeline\\export_file.py:25\u001b[0m, in \u001b[0;36mexport_to_csv\u001b[1;34m(week_num, data_src)\u001b[0m\n\u001b[0;32m     23\u001b[0m \u001b[38;5;28;01melse\u001b[39;00m:\n\u001b[0;32m     24\u001b[0m     path_dict \u001b[38;5;241m=\u001b[39m get_path\u001b[38;5;241m.\u001b[39mget(week_num\u001b[38;5;241m=\u001b[39mweek_num, data_src\u001b[38;5;241m=\u001b[39mdata_src)\n\u001b[1;32m---> 25\u001b[0m     df_dict \u001b[38;5;241m=\u001b[39m read_path\u001b[38;5;241m.\u001b[39mread(week_num\u001b[38;5;241m=\u001b[39mweek_num, data_src\u001b[38;5;241m=\u001b[39mdata_src)\n\u001b[0;32m     26\u001b[0m     \u001b[38;5;28;01mfor\u001b[39;00m project \u001b[38;5;129;01min\u001b[39;00m path_dict\u001b[38;5;241m.\u001b[39mkeys():\n\u001b[0;32m     27\u001b[0m         __export_init__(week_num\u001b[38;5;241m=\u001b[39mweek_num, data_src\u001b[38;5;241m=\u001b[39mdata_src,\n\u001b[0;32m     28\u001b[0m                             project\u001b[38;5;241m=\u001b[39mproject, df_dict\u001b[38;5;241m=\u001b[39mdf_dict)\n",
      "File \u001b[1;32mc:\\Users\\westwell\\Documents\\.WorkDocuments\\github\\westwell_da\\modules\\data_pipeline\\read_path.py:39\u001b[0m, in \u001b[0;36mread\u001b[1;34m(week_num, data_src)\u001b[0m\n\u001b[0;32m     37\u001b[0m \u001b[38;5;28;01mif\u001b[39;00m \u001b[38;5;28mlen\u001b[39m(cleaned_df)\u001b[38;5;241m>\u001b[39m\u001b[38;5;241m=\u001b[39m\u001b[38;5;241m100\u001b[39m:     \n\u001b[0;32m     38\u001b[0m     \u001b[38;5;28mprint\u001b[39m(\u001b[38;5;124mf\u001b[39m\u001b[38;5;124m'\u001b[39m\u001b[38;5;124mNow processing ---> \u001b[39m\u001b[38;5;132;01m{\u001b[39;00mproject,\u001b[38;5;250m \u001b[39mfolder_name,\u001b[38;5;250m \u001b[39mos\u001b[38;5;241m.\u001b[39mpath\u001b[38;5;241m.\u001b[39mbasename(file_path)\u001b[38;5;132;01m}\u001b[39;00m\u001b[38;5;124m'\u001b[39m)   \n\u001b[1;32m---> 39\u001b[0m     processed \u001b[38;5;241m=\u001b[39m __process_by_data_src__(project\u001b[38;5;241m=\u001b[39mproject, data_src\u001b[38;5;241m=\u001b[39mdata_src, df\u001b[38;5;241m=\u001b[39mcleaned_df, vessel_name\u001b[38;5;241m=\u001b[39mvessel_name)\n\u001b[0;32m     41\u001b[0m     \u001b[38;5;66;03m# IGV dfs with at least 10 mins records (3s/record)\u001b[39;00m\n\u001b[0;32m     42\u001b[0m     \u001b[38;5;28;01mif\u001b[39;00m (processed\u001b[38;5;241m.\u001b[39mshape[\u001b[38;5;241m0\u001b[39m] \u001b[38;5;241m>\u001b[39m\u001b[38;5;241m=\u001b[39m \u001b[38;5;241m200\u001b[39m) \u001b[38;5;241m|\u001b[39m (data_src\u001b[38;5;241m.\u001b[39mupper() \u001b[38;5;241m!=\u001b[39m \u001b[38;5;124m'\u001b[39m\u001b[38;5;124mIGV\u001b[39m\u001b[38;5;124m'\u001b[39m):                     \n",
      "File \u001b[1;32mc:\\Users\\westwell\\Documents\\.WorkDocuments\\github\\westwell_da\\modules\\data_pipeline\\read_path.py:65\u001b[0m, in \u001b[0;36m__process_by_data_src__\u001b[1;34m(project, data_src, df, vessel_name)\u001b[0m\n\u001b[0;32m     63\u001b[0m     processed_df \u001b[38;5;241m=\u001b[39m error_process\u001b[38;5;241m.\u001b[39mrun(df\u001b[38;5;241m=\u001b[39mdf)\n\u001b[0;32m     64\u001b[0m \u001b[38;5;28;01melif\u001b[39;00m data_src\u001b[38;5;241m.\u001b[39mupper() \u001b[38;5;241m==\u001b[39m \u001b[38;5;124m'\u001b[39m\u001b[38;5;124mIGV\u001b[39m\u001b[38;5;124m'\u001b[39m:\n\u001b[1;32m---> 65\u001b[0m     processed_df \u001b[38;5;241m=\u001b[39m igv_process\u001b[38;5;241m.\u001b[39mrun(project\u001b[38;5;241m=\u001b[39mproject, df\u001b[38;5;241m=\u001b[39mdf)\n\u001b[0;32m     66\u001b[0m     processed_df[\u001b[38;5;124m'\u001b[39m\u001b[38;5;124mproject\u001b[39m\u001b[38;5;124m'\u001b[39m] \u001b[38;5;241m=\u001b[39m \u001b[38;5;124m'\u001b[39m\u001b[38;5;124m'\u001b[39m\n\u001b[0;32m     67\u001b[0m     processed_df\u001b[38;5;241m.\u001b[39mloc[processed_df\u001b[38;5;241m.\u001b[39mindex, \u001b[38;5;124m'\u001b[39m\u001b[38;5;124mproject\u001b[39m\u001b[38;5;124m'\u001b[39m] \u001b[38;5;241m=\u001b[39m project\n",
      "File \u001b[1;32mc:\\Users\\westwell\\Documents\\.WorkDocuments\\github\\westwell_da\\modules\\IGV\\igv_process.py:36\u001b[0m, in \u001b[0;36mrun\u001b[1;34m(project, df)\u001b[0m\n\u001b[0;32m     34\u001b[0m         df \u001b[38;5;241m=\u001b[39m get_container_type(df\u001b[38;5;241m=\u001b[39mdf)\n\u001b[0;32m     35\u001b[0m         df \u001b[38;5;241m=\u001b[39m get_kpis(df\u001b[38;5;241m=\u001b[39mdf)\n\u001b[1;32m---> 36\u001b[0m         df \u001b[38;5;241m=\u001b[39m get_queue_mark_and_estop(df\u001b[38;5;241m=\u001b[39mdf)\n\u001b[0;32m     37\u001b[0m         \u001b[38;5;66;03m# df = get_chassis_mode(df=df)\u001b[39;00m\n\u001b[0;32m     40\u001b[0m \u001b[38;5;28;01mreturn\u001b[39;00m df\n",
      "File \u001b[1;32mc:\\Users\\westwell\\Documents\\.WorkDocuments\\github\\westwell_da\\modules\\IGV\\igv_process.py:216\u001b[0m, in \u001b[0;36mget_queue_mark_and_estop\u001b[1;34m(df)\u001b[0m\n\u001b[0;32m    214\u001b[0m df[\u001b[38;5;124m'\u001b[39m\u001b[38;5;124mestop boolean\u001b[39m\u001b[38;5;124m'\u001b[39m] \u001b[38;5;241m=\u001b[39m \u001b[38;5;124m\"\u001b[39m\u001b[38;5;124m\"\u001b[39m\n\u001b[0;32m    215\u001b[0m \u001b[38;5;28;01mfor\u001b[39;00m cycle_id, cycle_data \u001b[38;5;129;01min\u001b[39;00m df\u001b[38;5;241m.\u001b[39mgroupby(\u001b[38;5;124m'\u001b[39m\u001b[38;5;124mCycle Tag\u001b[39m\u001b[38;5;124m'\u001b[39m):\n\u001b[1;32m--> 216\u001b[0m     df[\u001b[38;5;124m'\u001b[39m\u001b[38;5;124mestop boolean\u001b[39m\u001b[38;5;124m'\u001b[39m] \u001b[38;5;241m=\u001b[39m  (df[\u001b[38;5;124m'\u001b[39m\u001b[38;5;124mdistance(m)\u001b[39m\u001b[38;5;124m'\u001b[39m] \u001b[38;5;241m-\u001b[39m df[\u001b[38;5;124m'\u001b[39m\u001b[38;5;124mdistance(m)\u001b[39m\u001b[38;5;124m'\u001b[39m]\u001b[38;5;241m.\u001b[39mshift(\u001b[38;5;241m1\u001b[39m))\u001b[38;5;241m.\u001b[39mapply(\u001b[38;5;28;01mlambda\u001b[39;00m x: \u001b[38;5;28;01mTrue\u001b[39;00m \u001b[38;5;28;01mif\u001b[39;00m \u001b[38;5;28mabs\u001b[39m(x)\u001b[38;5;241m>\u001b[39m\u001b[38;5;241m=\u001b[39m\u001b[38;5;241m9\u001b[39m \u001b[38;5;28;01melse\u001b[39;00m \u001b[38;5;28;01mFalse\u001b[39;00m)\n\u001b[0;32m    217\u001b[0m     queue_data \u001b[38;5;241m=\u001b[39m cycle_data[cycle_data[\u001b[38;5;124m\"\u001b[39m\u001b[38;5;124mspeed\u001b[39m\u001b[38;5;124m\"\u001b[39m] \u001b[38;5;241m<\u001b[39m\u001b[38;5;241m=\u001b[39m\u001b[38;5;241m0.1\u001b[39m]\u001b[38;5;241m.\u001b[39mcopy(deep\u001b[38;5;241m=\u001b[39m\u001b[38;5;28;01mTrue\u001b[39;00m)\n\u001b[0;32m    218\u001b[0m     queue_data[\u001b[38;5;124m\"\u001b[39m\u001b[38;5;124mtime_diff\u001b[39m\u001b[38;5;124m\"\u001b[39m] \u001b[38;5;241m=\u001b[39m (queue_data[\u001b[38;5;124m'\u001b[39m\u001b[38;5;124mlocal_time\u001b[39m\u001b[38;5;124m'\u001b[39m] \u001b[38;5;241m-\u001b[39m queue_data[\u001b[38;5;124m'\u001b[39m\u001b[38;5;124mlocal_time\u001b[39m\u001b[38;5;124m'\u001b[39m]\u001b[38;5;241m.\u001b[39mshift(\u001b[38;5;241m1\u001b[39m))\u001b[38;5;241m.\u001b[39mapply(\u001b[38;5;28;01mlambda\u001b[39;00m x: x\u001b[38;5;241m.\u001b[39mtotal_seconds())\u001b[38;5;241m.\u001b[39mfillna(\u001b[38;5;241m0\u001b[39m)\u001b[38;5;241m.\u001b[39mastype(\u001b[38;5;124m'\u001b[39m\u001b[38;5;124mint64\u001b[39m\u001b[38;5;124m'\u001b[39m)\n",
      "File \u001b[1;32mc:\\Users\\westwell\\anaconda3\\Lib\\site-packages\\pandas\\core\\frame.py:3761\u001b[0m, in \u001b[0;36mDataFrame.__getitem__\u001b[1;34m(self, key)\u001b[0m\n\u001b[0;32m   3759\u001b[0m \u001b[38;5;28;01mif\u001b[39;00m \u001b[38;5;28mself\u001b[39m\u001b[38;5;241m.\u001b[39mcolumns\u001b[38;5;241m.\u001b[39mnlevels \u001b[38;5;241m>\u001b[39m \u001b[38;5;241m1\u001b[39m:\n\u001b[0;32m   3760\u001b[0m     \u001b[38;5;28;01mreturn\u001b[39;00m \u001b[38;5;28mself\u001b[39m\u001b[38;5;241m.\u001b[39m_getitem_multilevel(key)\n\u001b[1;32m-> 3761\u001b[0m indexer \u001b[38;5;241m=\u001b[39m \u001b[38;5;28mself\u001b[39m\u001b[38;5;241m.\u001b[39mcolumns\u001b[38;5;241m.\u001b[39mget_loc(key)\n\u001b[0;32m   3762\u001b[0m \u001b[38;5;28;01mif\u001b[39;00m is_integer(indexer):\n\u001b[0;32m   3763\u001b[0m     indexer \u001b[38;5;241m=\u001b[39m [indexer]\n",
      "File \u001b[1;32mc:\\Users\\westwell\\anaconda3\\Lib\\site-packages\\pandas\\core\\indexes\\base.py:3655\u001b[0m, in \u001b[0;36mIndex.get_loc\u001b[1;34m(self, key)\u001b[0m\n\u001b[0;32m   3653\u001b[0m     \u001b[38;5;28;01mreturn\u001b[39;00m \u001b[38;5;28mself\u001b[39m\u001b[38;5;241m.\u001b[39m_engine\u001b[38;5;241m.\u001b[39mget_loc(casted_key)\n\u001b[0;32m   3654\u001b[0m \u001b[38;5;28;01mexcept\u001b[39;00m \u001b[38;5;167;01mKeyError\u001b[39;00m \u001b[38;5;28;01mas\u001b[39;00m err:\n\u001b[1;32m-> 3655\u001b[0m     \u001b[38;5;28;01mraise\u001b[39;00m \u001b[38;5;167;01mKeyError\u001b[39;00m(key) \u001b[38;5;28;01mfrom\u001b[39;00m \u001b[38;5;21;01merr\u001b[39;00m\n\u001b[0;32m   3656\u001b[0m \u001b[38;5;28;01mexcept\u001b[39;00m \u001b[38;5;167;01mTypeError\u001b[39;00m:\n\u001b[0;32m   3657\u001b[0m     \u001b[38;5;66;03m# If we have a listlike key, _check_indexing_error will raise\u001b[39;00m\n\u001b[0;32m   3658\u001b[0m     \u001b[38;5;66;03m#  InvalidIndexError. Otherwise we fall through and re-raise\u001b[39;00m\n\u001b[0;32m   3659\u001b[0m     \u001b[38;5;66;03m#  the TypeError.\u001b[39;00m\n\u001b[0;32m   3660\u001b[0m     \u001b[38;5;28mself\u001b[39m\u001b[38;5;241m.\u001b[39m_check_indexing_error(key)\n",
      "\u001b[1;31mKeyError\u001b[0m: 'distance(m)'"
     ]
    }
   ],
   "source": [
    "import os\n",
    "import pandas as pd\n",
    "from modules.data_pipeline import read_path, get_path, export_file\n",
    "\n",
    "export_file.export_to_csv(99, 'igv')\n",
    "# read_path.read(97, 'igv')"
   ]
  },
  {
   "cell_type": "code",
   "execution_count": null,
   "metadata": {},
   "outputs": [],
   "source": [
    "import pandas as pd\n",
    "\n",
    "def __strip_str__(df=pd.DataFrame):\n",
    "    \"\"\"\n",
    "    Strip leading and trailing whitespaces from column names and string columns.\n",
    "\n",
    "    Parameters:\n",
    "    DataFrame (pd.DataFrame): Input DataFrame. \n",
    "\n",
    "    Returns:\n",
    "    pd.DataFrame: DataFrame with leading and trailing whitespaces stripped from column names and string columns.\n",
    "    \"\"\"\n",
    "    df.columns = df.columns.str.strip()\n",
    "    \n",
    "    # Select columns of type 'object'\n",
    "    obj_cols = df.select_dtypes(['object']).columns\n",
    "    \n",
    "    # Strip leading and trailing whitespaces from string columns\n",
    "    df[obj_cols] = df[obj_cols].apply(lambda x: x.str.strip())\n",
    "\n",
    "    return df\n",
    "\n",
    "# p = \"C:\\\\Users\\westwell\\Documents\\.WorkDocuments\\github\\westwell_da\\data\\\\raw\\W99\\TJ20240409-0410kpi\\A023_IGVData_KPI.csv\"\n",
    "# p = \"C:\\\\Users\\westwell\\Documents\\.WorkDocuments\\github\\westwell_da\\data\\\\raw\\W99\\\\tpy20240409\\\\tpy06_IGVData.csv\"\n",
    "# p = \"C:\\\\Users\\westwell\\Documents\\.WorkDocuments\\github\\westwell_da\\data\\\\raw\\W99\\\\WH20240408\\宝旺8号\\TD002_IGVData_KPI.csv\"\n",
    "# p = \"C:\\\\Users\\westwell\\Documents\\.WorkDocuments\\github\\westwell_da\\data\\\\raw\\W99\\TS20240411\\\\556_IGVData.csv\"\n",
    "p = \"C:\\\\Users\\westwell\\Documents\\.WorkDocuments\\github\\westwell_da\\data\\\\raw\\W99\\dl_20240408\\dlqt_2_IGVData_KPI.csv\"\n",
    "\n",
    "df = pd.read_csv(p)\n",
    "df = __strip_str__(df)\n",
    "\n",
    "display(df['vesselVisitID'].value_counts().index.tolist(), df.shape)\n",
    "\n",
    "data = df.copy()\n",
    "val_to_drop = ['None', '']\n",
    "data = data[data['vesselVisitID'].isin(val_to_drop)==False]\n",
    "\n",
    "display(data['vesselVisitID'].value_counts().index.tolist(), data.shape)"
   ]
  },
  {
   "cell_type": "code",
   "execution_count": null,
   "metadata": {},
   "outputs": [],
   "source": [
    "p = 'c:\\\\Users\\westwell\\Documents\\.WorkDocuments\\github\\westwell_da\\data\\processed\\W99\\Igv_W99_TJ.csv'\n",
    "p = os.path.abspath(p)\n",
    "\n",
    "df = pd.read_csv(p, encoding='utf-8-sig', index_col=0)\n",
    "df.columns"
   ]
  },
  {
   "cell_type": "code",
   "execution_count": null,
   "metadata": {},
   "outputs": [],
   "source": [
    "def lmd_get_current_task_tag(current_task=str, mission_type=str, location_ref=str):\n",
    "    if (current_task != 'DSCH') & (current_task != 'LOAD'):\n",
    "        if ('YARD' in location_ref and mission_type=='DELIVER') or ('QC' in location_ref and mission_type=='RECEIVE'):\n",
    "            return 'DSCH'\n",
    "        elif('QC' in location_ref and mission_type=='DELIVER') or ('YARD' in location_ref and mission_type=='RECEIVE'):\n",
    "            return 'LOAD'      \n",
    "    else:\n",
    "        return current_task\n",
    "    \n",
    "df['current_task_tag'] = df.apply(\n",
    "                    lambda x: lmd_get_current_task_tag(x['current_task'], x['mission_type'], x['location_ref']),\n",
    "                    axis=1)\n",
    "\n",
    "\n",
    "df.columns"
   ]
  },
  {
   "cell_type": "markdown",
   "metadata": {},
   "source": [
    "# Test all weekly file"
   ]
  },
  {
   "cell_type": "code",
   "execution_count": 1,
   "metadata": {},
   "outputs": [],
   "source": [
    "import os\n",
    "import pandas as pd\n",
    "import numpy as np\n",
    "\n",
    "def get_all_weekly_file():\n",
    "    root = 'c:\\\\Users\\westwell\\Documents\\.WorkDocuments\\github\\westwell_da\\data\\processed\\W99'\n",
    "    pathlist = []\n",
    "    for item in os.listdir(root):\n",
    "        p = os.path.join(root, item)\n",
    "        if os.path.isfile(p):\n",
    "            pathlist.append(p)\n",
    "    return pathlist\n",
    "\n",
    "def lmd_rtg_operation(location_ref=str, task_stage=str):\n",
    "    if ('YARD' in location_ref) & (task_stage=='Waiting for Operation'):\n",
    "        return 'Waiting for Operation'\n",
    "    else:\n",
    "        return np.NaN\n",
    "\n",
    "li = get_all_weekly_file()"
   ]
  },
  {
   "cell_type": "code",
   "execution_count": 19,
   "metadata": {},
   "outputs": [
    {
     "name": "stdout",
     "output_type": "stream",
     "text": [
      "c:\\Users\\westwell\\Documents\\.WorkDocuments\\github\\westwell_da\\data\\processed\\W99\\Igv_W99_CK.csv\n",
      "\n",
      "c:\\Users\\westwell\\Documents\\.WorkDocuments\\github\\westwell_da\\data\\processed\\W99\\Igv_W99_DL.csv\n",
      "\n",
      "c:\\Users\\westwell\\Documents\\.WorkDocuments\\github\\westwell_da\\data\\processed\\W99\\Igv_W99_ICA.csv\n"
     ]
    },
    {
     "name": "stderr",
     "output_type": "stream",
     "text": [
      "C:\\Users\\westwell\\AppData\\Local\\Temp\\ipykernel_21864\\1971800734.py:4: DtypeWarning: Columns (29) have mixed types. Specify dtype option on import or set low_memory=False.\n",
      "  df = pd.read_csv(p, encoding='utf-8-sig', index_col=0)\n"
     ]
    },
    {
     "name": "stdout",
     "output_type": "stream",
     "text": [
      "\n",
      "c:\\Users\\westwell\\Documents\\.WorkDocuments\\github\\westwell_da\\data\\processed\\W99\\Igv_W99_TJ.csv\n",
      "\n",
      "c:\\Users\\westwell\\Documents\\.WorkDocuments\\github\\westwell_da\\data\\processed\\W99\\Igv_W99_TPY.csv\n",
      "\n",
      "c:\\Users\\westwell\\Documents\\.WorkDocuments\\github\\westwell_da\\data\\processed\\W99\\Igv_W99_TS.csv\n"
     ]
    },
    {
     "name": "stderr",
     "output_type": "stream",
     "text": [
      "C:\\Users\\westwell\\AppData\\Local\\Temp\\ipykernel_21864\\1971800734.py:4: DtypeWarning: Columns (19) have mixed types. Specify dtype option on import or set low_memory=False.\n",
      "  df = pd.read_csv(p, encoding='utf-8-sig', index_col=0)\n"
     ]
    },
    {
     "name": "stdout",
     "output_type": "stream",
     "text": [
      "\n",
      "c:\\Users\\westwell\\Documents\\.WorkDocuments\\github\\westwell_da\\data\\processed\\W99\\Igv_W99_WH.csv\n",
      "\n",
      "c:\\Users\\westwell\\Documents\\.WorkDocuments\\github\\westwell_da\\data\\processed\\W99\\Igv_W99_YH.csv\n",
      "\n"
     ]
    }
   ],
   "source": [
    "for p in li:\n",
    "    print(p)\n",
    "\n",
    "    df = pd.read_csv(p, encoding='utf-8-sig', index_col=0)\n",
    "\n",
    "    time_col = 'local_time'\n",
    "    df[time_col] = pd.to_datetime(df[time_col], format='%Y-%m-%d %H:%M:%S')    \n",
    "    df['time_diff'] = (df[time_col] - df[time_col].shift(1)).dt.total_seconds().fillna(3)\n",
    "    \n",
    "    if 'Cycle Tag' in df.columns:\n",
    "        for cycle, data in df.groupby('Cycle Tag'):\n",
    "            data['container_tag'] = data['container1_type'].astype(str) + data['container2_type'].astype(str)\n",
    "\n",
    "            rtg_ind = data[\n",
    "                (data['task_stage']=='Waiting for Operation') & data['location_ref'].str.contains('YARD', na=False)\n",
    "                ].index.to_list()\n",
    "            \n",
    "            rtg_data = data[data.index.isin(rtg_ind)]\n",
    "            n_mission= len(rtg_data['missionID'].value_counts().index.tolist())\n",
    "            cntr_tag = data['container_tag'].value_counts().index.tolist()[0]\n",
    "            \n",
    "            if n_mission>=2:\n",
    "                container_tag = '2020'\n",
    "            else:\n",
    "                container_tag = cntr_tag\n",
    "\n",
    "            data_ind = data.index\n",
    "            df.loc[data_ind, \"container_tag\"] = container_tag\n",
    "            \n",
    "    print()"
   ]
  },
  {
   "cell_type": "code",
   "execution_count": 3,
   "metadata": {},
   "outputs": [
    {
     "data": {
      "text/plain": [
       "Index(['vehicle_id', 'position_x', 'position_y', 'position_z', 'heading',\n",
       "       'speed', 'speed_command', 'mileage_distance', 'soc', 'local_time',\n",
       "       'chassis_mode', 'estop', 'charge_status', 'task_state_running',\n",
       "       'task_state_estop', 'task_state_lock', 'task_stage', 'current_task',\n",
       "       'error_code', 'target_location', 'vesselVisitID', 'mission_type',\n",
       "       'container1_type', 'container2_type', 'vehicle_mode', 'missionID',\n",
       "       'lane_change_state', 'location_ref', 'location_tag', 'current_task_tag',\n",
       "       'cycle', 'mission_type_change', 'Cycle Tag', 'time_diff'],\n",
       "      dtype='object')"
      ]
     },
     "execution_count": 3,
     "metadata": {},
     "output_type": "execute_result"
    }
   ],
   "source": [
    "df.columns\n"
   ]
  },
  {
   "cell_type": "code",
   "execution_count": 4,
   "metadata": {},
   "outputs": [
    {
     "data": {
      "text/plain": [
       "['Navigation', 'Alignment', 'Waiting for Operation', 'Operation Finished']"
      ]
     },
     "execution_count": 4,
     "metadata": {},
     "output_type": "execute_result"
    }
   ],
   "source": [
    "df['task_stage'].value_counts().index.tolist()"
   ]
  },
  {
   "cell_type": "code",
   "execution_count": null,
   "metadata": {},
   "outputs": [],
   "source": [
    "path = os.path.abspath('c:\\\\Users\\westwell\\Documents\\.WorkDocuments\\github\\westwell_da\\data\\processed\\W99\\Igv_W99_TPY.csv')\n",
    "\n",
    "d = pd.read_csv(path, encoding='utf-8-sig')\n",
    "print(d['vesselVisitID'].value_counts())"
   ]
  },
  {
   "cell_type": "code",
   "execution_count": null,
   "metadata": {},
   "outputs": [],
   "source": [
    "for cycle, data in d.groupby('Cycle Tag'):\n",
    "    if len(data)>100:\n",
    "        print(cycle)\n",
    "        col = ['container1_type', 'container2_type']\n",
    "        print(data[col].value_counts())\n",
    "   \n",
    "    print()"
   ]
  },
  {
   "cell_type": "code",
   "execution_count": null,
   "metadata": {},
   "outputs": [],
   "source": []
  },
  {
   "cell_type": "code",
   "execution_count": null,
   "metadata": {},
   "outputs": [],
   "source": []
  }
 ],
 "metadata": {
  "kernelspec": {
   "display_name": "base",
   "language": "python",
   "name": "python3"
  },
  "language_info": {
   "codemirror_mode": {
    "name": "ipython",
    "version": 3
   },
   "file_extension": ".py",
   "mimetype": "text/x-python",
   "name": "python",
   "nbconvert_exporter": "python",
   "pygments_lexer": "ipython3",
   "version": "3.11.5"
  }
 },
 "nbformat": 4,
 "nbformat_minor": 2
}
