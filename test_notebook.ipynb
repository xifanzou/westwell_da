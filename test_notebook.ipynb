{
 "cells": [
  {
   "cell_type": "code",
   "execution_count": 1,
   "metadata": {},
   "outputs": [
    {
     "name": "stdout",
     "output_type": "stream",
     "text": [
      "Created directory: c:\\Users\\westwell\\Documents\\.WorkDocuments\\github\\westwell_da\\data\\processed\\W16\\CK\\TASKData\n",
      "File to small (0, 30), ck20240321 has no info to extract.\n",
      "Too litte info to extract.\n",
      "Created directory: c:\\Users\\westwell\\Documents\\.WorkDocuments\\github\\westwell_da\\data\\processed\\W16\\ICA\\TASKData\n",
      "File exported to: c:\\Users\\westwell\\Documents\\.WorkDocuments\\github\\westwell_da\\data\\processed\\W16\\ICA\\TASKData\\ica20240405.csv\n",
      "Weekly file exported to: c:\\Users\\westwell\\Documents\\.WorkDocuments\\github\\westwell_da\\data\\processed\\W16\\ICA\\TASKData\\ICA_W16_Task.csv\n",
      "\n",
      "Created directory: c:\\Users\\westwell\\Documents\\.WorkDocuments\\github\\westwell_da\\data\\processed\\W16\\TJ\\TASKData\n",
      "File exported to: c:\\Users\\westwell\\Documents\\.WorkDocuments\\github\\westwell_da\\data\\processed\\W16\\TJ\\TASKData\\TJ0328_0329KPI.csv\n",
      "Weekly file exported to: c:\\Users\\westwell\\Documents\\.WorkDocuments\\github\\westwell_da\\data\\processed\\W16\\TJ\\TASKData\\TJ_W16_Task.csv\n",
      "\n",
      "No of tasks: 152\n",
      "\n"
     ]
    },
    {
     "name": "stderr",
     "output_type": "stream",
     "text": [
      "c:\\Users\\westwell\\Documents\\.WorkDocuments\\github\\westwell_da\\src\\processer_data\\task_process.py:172: SettingWithCopyWarning: \n",
      "A value is trying to be set on a copy of a slice from a DataFrame.\n",
      "Try using .loc[row_indexer,col_indexer] = value instead\n",
      "\n",
      "See the caveats in the documentation: https://pandas.pydata.org/pandas-docs/stable/user_guide/indexing.html#returning-a-view-versus-a-copy\n",
      "  sheet1['Time Gap'] = df_form_dict[['navigation_dur(s)', 'alignment_dur(s)','opera_dur(s)', 'gap_navi_to_align(s)', 'gap_align_to_oper(s)']].apply(list, axis=1)\n",
      "c:\\Users\\westwell\\Documents\\.WorkDocuments\\github\\westwell_da\\src\\processer_data\\task_process.py:173: SettingWithCopyWarning: \n",
      "A value is trying to be set on a copy of a slice from a DataFrame.\n",
      "Try using .loc[row_indexer,col_indexer] = value instead\n",
      "\n",
      "See the caveats in the documentation: https://pandas.pydata.org/pandas-docs/stable/user_guide/indexing.html#returning-a-view-versus-a-copy\n",
      "  sheet1['checkpoint'] = [['navigation_duration', 'alignment_duration','waiting_for_ops_duration','gap_navi_to_align','gap_align_to_ops'] ]* sheet1.shape[0]\n"
     ]
    },
    {
     "name": "stdout",
     "output_type": "stream",
     "text": [
      "Task excel file exported to c:\\Users\\westwell\\Documents\\.WorkDocuments\\github\\westwell_da\\data\\processed\\W16\\TJ\\TASKData\\TJ_W16_Task.xlsx.\n",
      "Created directory: c:\\Users\\westwell\\Documents\\.WorkDocuments\\github\\westwell_da\\data\\processed\\W16\\WH\\TASKData\n",
      "File exported to: c:\\Users\\westwell\\Documents\\.WorkDocuments\\github\\westwell_da\\data\\processed\\W16\\WH\\TASKData\\好运达.csv\n",
      "File exported to: c:\\Users\\westwell\\Documents\\.WorkDocuments\\github\\westwell_da\\data\\processed\\W16\\WH\\TASKData\\海通18.csv\n",
      "Weekly file exported to: c:\\Users\\westwell\\Documents\\.WorkDocuments\\github\\westwell_da\\data\\processed\\W16\\WH\\TASKData\\WH_W16_Task.csv\n",
      "\n"
     ]
    }
   ],
   "source": [
    "import os\n",
    "import pandas as pd\n",
    "from src.processer_file import read_path as reader\n",
    "from src.processer_file import get_path \n",
    "from src.processer_file import export_file\n",
    "\n",
    "# export_file.export_to_csv(15, 'task')\n",
    "# df_dict = reader.read(16, 'task')\n",
    "\n",
    "# for k,v in df_dict.items():\n",
    "#     print(k)\n",
    "#     for k2, v2 in v.items():\n",
    "#         print(f'{k2, v2.shape}')\n",
    "\n",
    "export_file.export_to_csv(16, 'task')"
   ]
  },
  {
   "cell_type": "code",
   "execution_count": null,
   "metadata": {},
   "outputs": [],
   "source": []
  },
  {
   "cell_type": "code",
   "execution_count": null,
   "metadata": {},
   "outputs": [],
   "source": []
  }
 ],
 "metadata": {
  "kernelspec": {
   "display_name": "base",
   "language": "python",
   "name": "python3"
  },
  "language_info": {
   "codemirror_mode": {
    "name": "ipython",
    "version": 3
   },
   "file_extension": ".py",
   "mimetype": "text/x-python",
   "name": "python",
   "nbconvert_exporter": "python",
   "pygments_lexer": "ipython3",
   "version": "3.11.5"
  }
 },
 "nbformat": 4,
 "nbformat_minor": 2
}
