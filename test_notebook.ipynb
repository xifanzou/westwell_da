{
 "cells": [
  {
   "cell_type": "code",
   "execution_count": 1,
   "metadata": {},
   "outputs": [
    {
     "name": "stdout",
     "output_type": "stream",
     "text": [
      "('CK', 'ck20240408', 'c:\\\\Users\\\\westwell\\\\Documents\\\\.WorkDocuments\\\\github\\\\westwell_da\\\\data\\\\raw\\\\W99\\\\ck20240408\\\\V001_IGVData_KPI.csv')\n",
      "('CK', 'ck20240408', 'c:\\\\Users\\\\westwell\\\\Documents\\\\.WorkDocuments\\\\github\\\\westwell_da\\\\data\\\\raw\\\\W99\\\\ck20240408\\\\V002_IGVData_KPI.csv')\n",
      "('CK', 'ck20240408', 'c:\\\\Users\\\\westwell\\\\Documents\\\\.WorkDocuments\\\\github\\\\westwell_da\\\\data\\\\raw\\\\W99\\\\ck20240408\\\\V003_IGVData_KPI.csv')\n",
      "('CK', 'ck20240408', 'c:\\\\Users\\\\westwell\\\\Documents\\\\.WorkDocuments\\\\github\\\\westwell_da\\\\data\\\\raw\\\\W99\\\\ck20240408\\\\V004_IGVData_KPI.csv')\n",
      "('CK', 'ck20240408', 'c:\\\\Users\\\\westwell\\\\Documents\\\\.WorkDocuments\\\\github\\\\westwell_da\\\\data\\\\raw\\\\W99\\\\ck20240408\\\\V005_IGVData_KPI.csv')\n",
      "('CK', 'ck20240408', 'c:\\\\Users\\\\westwell\\\\Documents\\\\.WorkDocuments\\\\github\\\\westwell_da\\\\data\\\\raw\\\\W99\\\\ck20240408\\\\V006_IGVData_KPI.csv')\n",
      "('CK', 'ck20240408', 'c:\\\\Users\\\\westwell\\\\Documents\\\\.WorkDocuments\\\\github\\\\westwell_da\\\\data\\\\raw\\\\W99\\\\ck20240408\\\\V008_IGVData_KPI.csv')\n",
      "('CK', 'ck20240408', 'c:\\\\Users\\\\westwell\\\\Documents\\\\.WorkDocuments\\\\github\\\\westwell_da\\\\data\\\\raw\\\\W99\\\\ck20240408\\\\V009_IGVData_KPI.csv')\n",
      "('CK', 'ck20240408', 'c:\\\\Users\\\\westwell\\\\Documents\\\\.WorkDocuments\\\\github\\\\westwell_da\\\\data\\\\raw\\\\W99\\\\ck20240408\\\\V010_IGVData_KPI.csv')\n",
      "('CK', 'ck20240408', 'c:\\\\Users\\\\westwell\\\\Documents\\\\.WorkDocuments\\\\github\\\\westwell_da\\\\data\\\\raw\\\\W99\\\\ck20240408\\\\V011_IGVData_KPI.csv')\n",
      "('CK', 'ck20240408', 'c:\\\\Users\\\\westwell\\\\Documents\\\\.WorkDocuments\\\\github\\\\westwell_da\\\\data\\\\raw\\\\W99\\\\ck20240408\\\\V012_IGVData_KPI.csv')\n",
      "('CK', 'ck20240408', 'c:\\\\Users\\\\westwell\\\\Documents\\\\.WorkDocuments\\\\github\\\\westwell_da\\\\data\\\\raw\\\\W99\\\\ck20240408\\\\V013_IGVData_KPI.csv')\n",
      "('CK', 'ck20240408', 'c:\\\\Users\\\\westwell\\\\Documents\\\\.WorkDocuments\\\\github\\\\westwell_da\\\\data\\\\raw\\\\W99\\\\ck20240408\\\\V014_IGVData_KPI.csv')\n",
      "('CK', 'ck20240408', 'c:\\\\Users\\\\westwell\\\\Documents\\\\.WorkDocuments\\\\github\\\\westwell_da\\\\data\\\\raw\\\\W99\\\\ck20240408\\\\V015_IGVData_KPI.csv')\n",
      "('CK', 'ck20240408', 'c:\\\\Users\\\\westwell\\\\Documents\\\\.WorkDocuments\\\\github\\\\westwell_da\\\\data\\\\raw\\\\W99\\\\ck20240408\\\\V017_IGVData_KPI.csv')\n",
      "('CK', 'ck20240408', 'c:\\\\Users\\\\westwell\\\\Documents\\\\.WorkDocuments\\\\github\\\\westwell_da\\\\data\\\\raw\\\\W99\\\\ck20240408\\\\V018_IGVData_KPI.csv')\n",
      "('CK', 'ck20240408', 'c:\\\\Users\\\\westwell\\\\Documents\\\\.WorkDocuments\\\\github\\\\westwell_da\\\\data\\\\raw\\\\W99\\\\ck20240408\\\\V020_IGVData_KPI.csv')\n",
      "('CK', 'ck20240408', 'c:\\\\Users\\\\westwell\\\\Documents\\\\.WorkDocuments\\\\github\\\\westwell_da\\\\data\\\\raw\\\\W99\\\\ck20240408\\\\V022_IGVData_KPI.csv')\n",
      "('CK', 'ck20240408', 'c:\\\\Users\\\\westwell\\\\Documents\\\\.WorkDocuments\\\\github\\\\westwell_da\\\\data\\\\raw\\\\W99\\\\ck20240408\\\\V023_IGVData_KPI.csv')\n",
      "('CK', 'ck20240408', 'c:\\\\Users\\\\westwell\\\\Documents\\\\.WorkDocuments\\\\github\\\\westwell_da\\\\data\\\\raw\\\\W99\\\\ck20240408\\\\V024_IGVData_KPI.csv')\n",
      "('CK', 'ck20240408', 'c:\\\\Users\\\\westwell\\\\Documents\\\\.WorkDocuments\\\\github\\\\westwell_da\\\\data\\\\raw\\\\W99\\\\ck20240408\\\\V025_IGVData_KPI.csv')\n",
      "('DL', 'dl_20240408', 'c:\\\\Users\\\\westwell\\\\Documents\\\\.WorkDocuments\\\\github\\\\westwell_da\\\\data\\\\raw\\\\W99\\\\dl_20240408\\\\dlqt1_IGVData_KPI.csv')\n",
      "('DL', 'dl_20240408', 'c:\\\\Users\\\\westwell\\\\Documents\\\\.WorkDocuments\\\\github\\\\westwell_da\\\\data\\\\raw\\\\W99\\\\dl_20240408\\\\dlqt4_IGVData_KPI.csv')\n",
      "('DL', 'dl_20240408', 'c:\\\\Users\\\\westwell\\\\Documents\\\\.WorkDocuments\\\\github\\\\westwell_da\\\\data\\\\raw\\\\W99\\\\dl_20240408\\\\dlqt5_IGVData_KPI.csv')\n",
      "('DL', 'dl_20240408', 'c:\\\\Users\\\\westwell\\\\Documents\\\\.WorkDocuments\\\\github\\\\westwell_da\\\\data\\\\raw\\\\W99\\\\dl_20240408\\\\dlqt_2_IGVData_KPI.csv')\n",
      "('DL', 'dl_20240408', 'c:\\\\Users\\\\westwell\\\\Documents\\\\.WorkDocuments\\\\github\\\\westwell_da\\\\data\\\\raw\\\\W99\\\\dl_20240408\\\\dlqt_3_IGVData_KPI.csv')\n",
      "('ICA', 'ica20240411', 'c:\\\\Users\\\\westwell\\\\Documents\\\\.WorkDocuments\\\\github\\\\westwell_da\\\\data\\\\raw\\\\W99\\\\ica20240411\\\\ica01Data.csv')\n",
      "('ICA', 'ica20240411', 'c:\\\\Users\\\\westwell\\\\Documents\\\\.WorkDocuments\\\\github\\\\westwell_da\\\\data\\\\raw\\\\W99\\\\ica20240411\\\\ica02Data.csv')\n",
      "('ICA', 'ica20240411', 'c:\\\\Users\\\\westwell\\\\Documents\\\\.WorkDocuments\\\\github\\\\westwell_da\\\\data\\\\raw\\\\W99\\\\ica20240411\\\\ica05Data.csv')\n",
      "('ICA', 'ica20240414', 'c:\\\\Users\\\\westwell\\\\Documents\\\\.WorkDocuments\\\\github\\\\westwell_da\\\\data\\\\raw\\\\W99\\\\ica20240414\\\\ica01Data.csv')\n",
      "('ICA', 'ica20240414', 'c:\\\\Users\\\\westwell\\\\Documents\\\\.WorkDocuments\\\\github\\\\westwell_da\\\\data\\\\raw\\\\W99\\\\ica20240414\\\\ica02Data.csv')\n",
      "('ICA', 'ica20240414', 'c:\\\\Users\\\\westwell\\\\Documents\\\\.WorkDocuments\\\\github\\\\westwell_da\\\\data\\\\raw\\\\W99\\\\ica20240414\\\\ica03Data.csv')\n",
      "('ICA', 'ica20240414', 'c:\\\\Users\\\\westwell\\\\Documents\\\\.WorkDocuments\\\\github\\\\westwell_da\\\\data\\\\raw\\\\W99\\\\ica20240414\\\\ica06Data.csv')\n",
      "('ICA', 'ica20240416', 'c:\\\\Users\\\\westwell\\\\Documents\\\\.WorkDocuments\\\\github\\\\westwell_da\\\\data\\\\raw\\\\W99\\\\ica20240416\\\\ica01Data.csv')\n",
      "('ICA', 'ica20240416', 'c:\\\\Users\\\\westwell\\\\Documents\\\\.WorkDocuments\\\\github\\\\westwell_da\\\\data\\\\raw\\\\W99\\\\ica20240416\\\\ica02Data.csv')\n",
      "('ICA', 'ica20240416', 'c:\\\\Users\\\\westwell\\\\Documents\\\\.WorkDocuments\\\\github\\\\westwell_da\\\\data\\\\raw\\\\W99\\\\ica20240416\\\\ica03Data.csv')\n",
      "('ICA', 'ica20240416', 'c:\\\\Users\\\\westwell\\\\Documents\\\\.WorkDocuments\\\\github\\\\westwell_da\\\\data\\\\raw\\\\W99\\\\ica20240416\\\\ica06Data.csv')\n",
      "('TJ', 'TJ20240409-0410kpi', 'c:\\\\Users\\\\westwell\\\\Documents\\\\.WorkDocuments\\\\github\\\\westwell_da\\\\data\\\\raw\\\\W99\\\\TJ20240409-0410kpi\\\\A001_IGVData_KPI.csv')\n",
      "('TJ', 'TJ20240409-0410kpi', 'c:\\\\Users\\\\westwell\\\\Documents\\\\.WorkDocuments\\\\github\\\\westwell_da\\\\data\\\\raw\\\\W99\\\\TJ20240409-0410kpi\\\\A002_IGVData_KPI.csv')\n",
      "('TJ', 'TJ20240409-0410kpi', 'c:\\\\Users\\\\westwell\\\\Documents\\\\.WorkDocuments\\\\github\\\\westwell_da\\\\data\\\\raw\\\\W99\\\\TJ20240409-0410kpi\\\\A021_IGVData_KPI.csv')\n",
      "('TJ', 'TJ20240409-0410kpi', 'c:\\\\Users\\\\westwell\\\\Documents\\\\.WorkDocuments\\\\github\\\\westwell_da\\\\data\\\\raw\\\\W99\\\\TJ20240409-0410kpi\\\\A022_IGVData_KPI.csv')\n",
      "('TJ', 'TJ20240409-0410kpi', 'c:\\\\Users\\\\westwell\\\\Documents\\\\.WorkDocuments\\\\github\\\\westwell_da\\\\data\\\\raw\\\\W99\\\\TJ20240409-0410kpi\\\\A023_IGVData_KPI.csv')\n",
      "('TJ', 'TJ20240409-0410kpi', 'c:\\\\Users\\\\westwell\\\\Documents\\\\.WorkDocuments\\\\github\\\\westwell_da\\\\data\\\\raw\\\\W99\\\\TJ20240409-0410kpi\\\\A024_IGVData_KPI.csv')\n",
      "('TJ', 'TJ20240409-0410kpi', 'c:\\\\Users\\\\westwell\\\\Documents\\\\.WorkDocuments\\\\github\\\\westwell_da\\\\data\\\\raw\\\\W99\\\\TJ20240409-0410kpi\\\\A025_IGVData_KPI.csv')\n",
      "('TJ', 'TJ20240409-0410kpi', 'c:\\\\Users\\\\westwell\\\\Documents\\\\.WorkDocuments\\\\github\\\\westwell_da\\\\data\\\\raw\\\\W99\\\\TJ20240409-0410kpi\\\\A026_IGVData_KPI.csv')\n",
      "('TJ', 'TJ20240409-0410kpi', 'c:\\\\Users\\\\westwell\\\\Documents\\\\.WorkDocuments\\\\github\\\\westwell_da\\\\data\\\\raw\\\\W99\\\\TJ20240409-0410kpi\\\\A027_IGVData_KPI.csv')\n",
      "('TJ', 'TJ20240409-0410kpi', 'c:\\\\Users\\\\westwell\\\\Documents\\\\.WorkDocuments\\\\github\\\\westwell_da\\\\data\\\\raw\\\\W99\\\\TJ20240409-0410kpi\\\\A029_IGVData_KPI.csv')\n",
      "('TJ', 'TJ20240409-0410kpi', 'c:\\\\Users\\\\westwell\\\\Documents\\\\.WorkDocuments\\\\github\\\\westwell_da\\\\data\\\\raw\\\\W99\\\\TJ20240409-0410kpi\\\\A030_IGVData_KPI.csv')\n",
      "('TJ', 'TJ20240409-0410kpi', 'c:\\\\Users\\\\westwell\\\\Documents\\\\.WorkDocuments\\\\github\\\\westwell_da\\\\data\\\\raw\\\\W99\\\\TJ20240409-0410kpi\\\\A031_IGVData_KPI.csv')\n",
      "('TJ', 'TJ20240409-0410kpi', 'c:\\\\Users\\\\westwell\\\\Documents\\\\.WorkDocuments\\\\github\\\\westwell_da\\\\data\\\\raw\\\\W99\\\\TJ20240409-0410kpi\\\\A032_IGVData_KPI.csv')\n",
      "('TJ', 'TJ20240409-0410kpi', 'c:\\\\Users\\\\westwell\\\\Documents\\\\.WorkDocuments\\\\github\\\\westwell_da\\\\data\\\\raw\\\\W99\\\\TJ20240409-0410kpi\\\\A072_IGVData_KPI.csv')\n",
      "('TJ', 'TJ20240409-0410kpi', 'c:\\\\Users\\\\westwell\\\\Documents\\\\.WorkDocuments\\\\github\\\\westwell_da\\\\data\\\\raw\\\\W99\\\\TJ20240409-0410kpi\\\\A073_IGVData_KPI.csv')\n",
      "('TJ', 'TJ20240409-0410kpi', 'c:\\\\Users\\\\westwell\\\\Documents\\\\.WorkDocuments\\\\github\\\\westwell_da\\\\data\\\\raw\\\\W99\\\\TJ20240409-0410kpi\\\\A076_IGVData_KPI.csv')\n",
      "('TJ', 'TJ20240409-0410kpi', 'c:\\\\Users\\\\westwell\\\\Documents\\\\.WorkDocuments\\\\github\\\\westwell_da\\\\data\\\\raw\\\\W99\\\\TJ20240409-0410kpi\\\\B077_IGVData_KPI.csv')\n",
      "('TJ', 'TJ20240409-0410kpi', 'c:\\\\Users\\\\westwell\\\\Documents\\\\.WorkDocuments\\\\github\\\\westwell_da\\\\data\\\\raw\\\\W99\\\\TJ20240409-0410kpi\\\\B078_IGVData_KPI.csv')\n",
      "('TJ', 'TJ20240409-0410kpi', 'c:\\\\Users\\\\westwell\\\\Documents\\\\.WorkDocuments\\\\github\\\\westwell_da\\\\data\\\\raw\\\\W99\\\\TJ20240409-0410kpi\\\\B079_IGVData_KPI.csv')\n",
      "('TJ', 'TJ20240409-0410kpi', 'c:\\\\Users\\\\westwell\\\\Documents\\\\.WorkDocuments\\\\github\\\\westwell_da\\\\data\\\\raw\\\\W99\\\\TJ20240409-0410kpi\\\\B080_IGVData_KPI.csv')\n",
      "('TJ', 'TJ20240409-0410kpi', 'c:\\\\Users\\\\westwell\\\\Documents\\\\.WorkDocuments\\\\github\\\\westwell_da\\\\data\\\\raw\\\\W99\\\\TJ20240409-0410kpi\\\\B081_IGVData_KPI.csv')\n",
      "('TJ', 'TJ20240409-0410kpi', 'c:\\\\Users\\\\westwell\\\\Documents\\\\.WorkDocuments\\\\github\\\\westwell_da\\\\data\\\\raw\\\\W99\\\\TJ20240409-0410kpi\\\\B082_IGVData_KPI.csv')\n",
      "('TJ', 'TJ20240409-0410kpi', 'c:\\\\Users\\\\westwell\\\\Documents\\\\.WorkDocuments\\\\github\\\\westwell_da\\\\data\\\\raw\\\\W99\\\\TJ20240409-0410kpi\\\\B083_IGVData_KPI.csv')\n",
      "('TPY', 'tpy20240409', 'c:\\\\Users\\\\westwell\\\\Documents\\\\.WorkDocuments\\\\github\\\\westwell_da\\\\data\\\\raw\\\\W99\\\\tpy20240409\\\\tpy06_IGVData.csv')\n",
      "('TPY', 'tpy20240409', 'c:\\\\Users\\\\westwell\\\\Documents\\\\.WorkDocuments\\\\github\\\\westwell_da\\\\data\\\\raw\\\\W99\\\\tpy20240409\\\\tpy09_IGVData.csv')\n",
      "('TPY', 'tpy20240409', 'c:\\\\Users\\\\westwell\\\\Documents\\\\.WorkDocuments\\\\github\\\\westwell_da\\\\data\\\\raw\\\\W99\\\\tpy20240409\\\\tpy10_IGVData.csv')\n",
      "Too litte info to extract from ('tpy20240409', 'tpy10_IGVData.csv').\n",
      "('TPY', 'tpy20240409', 'c:\\\\Users\\\\westwell\\\\Documents\\\\.WorkDocuments\\\\github\\\\westwell_da\\\\data\\\\raw\\\\W99\\\\tpy20240409\\\\tpy11_IGVData.csv')\n",
      "Too litte info to extract from ('tpy20240409', 'tpy11_IGVData.csv').\n",
      "('TPY', 'tpy20240409', 'c:\\\\Users\\\\westwell\\\\Documents\\\\.WorkDocuments\\\\github\\\\westwell_da\\\\data\\\\raw\\\\W99\\\\tpy20240409\\\\tpy13_IGVData.csv')\n",
      "Too litte info to extract from ('tpy20240409', 'tpy13_IGVData.csv').\n",
      "('TPY', 'tpy20240409', 'c:\\\\Users\\\\westwell\\\\Documents\\\\.WorkDocuments\\\\github\\\\westwell_da\\\\data\\\\raw\\\\W99\\\\tpy20240409\\\\tpy17_IGVData.csv')\n",
      "('TPY', 'tpy20240409', 'c:\\\\Users\\\\westwell\\\\Documents\\\\.WorkDocuments\\\\github\\\\westwell_da\\\\data\\\\raw\\\\W99\\\\tpy20240409\\\\tpy18_IGVData.csv')\n",
      "('TPY', 'tpy20240409', 'c:\\\\Users\\\\westwell\\\\Documents\\\\.WorkDocuments\\\\github\\\\westwell_da\\\\data\\\\raw\\\\W99\\\\tpy20240409\\\\tpy19_IGVData.csv')\n",
      "('TPY', 'tpy20240409', 'c:\\\\Users\\\\westwell\\\\Documents\\\\.WorkDocuments\\\\github\\\\westwell_da\\\\data\\\\raw\\\\W99\\\\tpy20240409\\\\tpy21_IGVData.csv')\n",
      "('TPY', 'tpy20240409', 'c:\\\\Users\\\\westwell\\\\Documents\\\\.WorkDocuments\\\\github\\\\westwell_da\\\\data\\\\raw\\\\W99\\\\tpy20240409\\\\tpy22_IGVData.csv')\n",
      "('TPY', 'tpy20240409', 'c:\\\\Users\\\\westwell\\\\Documents\\\\.WorkDocuments\\\\github\\\\westwell_da\\\\data\\\\raw\\\\W99\\\\tpy20240409\\\\tpy23_IGVData.csv')\n",
      "('TPY', 'tpy20240409', 'c:\\\\Users\\\\westwell\\\\Documents\\\\.WorkDocuments\\\\github\\\\westwell_da\\\\data\\\\raw\\\\W99\\\\tpy20240409\\\\tpy24_IGVData.csv')\n",
      "('TS', 'TS20240411', 'c:\\\\Users\\\\westwell\\\\Documents\\\\.WorkDocuments\\\\github\\\\westwell_da\\\\data\\\\raw\\\\W99\\\\TS20240411\\\\556_IGVData.csv')\n",
      "('TS', 'TS20240411', 'c:\\\\Users\\\\westwell\\\\Documents\\\\.WorkDocuments\\\\github\\\\westwell_da\\\\data\\\\raw\\\\W99\\\\TS20240411\\\\557_IGVData.csv')\n",
      "('TS', 'TS20240411', 'c:\\\\Users\\\\westwell\\\\Documents\\\\.WorkDocuments\\\\github\\\\westwell_da\\\\data\\\\raw\\\\W99\\\\TS20240411\\\\558_IGVData.csv')\n",
      "('TS', 'TS20240411', 'c:\\\\Users\\\\westwell\\\\Documents\\\\.WorkDocuments\\\\github\\\\westwell_da\\\\data\\\\raw\\\\W99\\\\TS20240411\\\\559_IGVData.csv')\n",
      "('TS', 'TS20240411', 'c:\\\\Users\\\\westwell\\\\Documents\\\\.WorkDocuments\\\\github\\\\westwell_da\\\\data\\\\raw\\\\W99\\\\TS20240411\\\\562_IGVData.csv')\n",
      "('TS', 'TS20240411', 'c:\\\\Users\\\\westwell\\\\Documents\\\\.WorkDocuments\\\\github\\\\westwell_da\\\\data\\\\raw\\\\W99\\\\TS20240411\\\\563_IGVData.csv')\n",
      "('TS', 'TS20240411', 'c:\\\\Users\\\\westwell\\\\Documents\\\\.WorkDocuments\\\\github\\\\westwell_da\\\\data\\\\raw\\\\W99\\\\TS20240411\\\\564_IGVData.csv')\n",
      "('TS', 'TS20240411', 'c:\\\\Users\\\\westwell\\\\Documents\\\\.WorkDocuments\\\\github\\\\westwell_da\\\\data\\\\raw\\\\W99\\\\TS20240411\\\\565_IGVData.csv')\n",
      "('TS', 'TS20240411', 'c:\\\\Users\\\\westwell\\\\Documents\\\\.WorkDocuments\\\\github\\\\westwell_da\\\\data\\\\raw\\\\W99\\\\TS20240411\\\\566_IGVData.csv')\n",
      "('TS', 'TS20240411', 'c:\\\\Users\\\\westwell\\\\Documents\\\\.WorkDocuments\\\\github\\\\westwell_da\\\\data\\\\raw\\\\W99\\\\TS20240411\\\\567_IGVData.csv')\n",
      "('TS', 'TS20240411', 'c:\\\\Users\\\\westwell\\\\Documents\\\\.WorkDocuments\\\\github\\\\westwell_da\\\\data\\\\raw\\\\W99\\\\TS20240411\\\\568_IGVData.csv')\n",
      "('TS', 'TS20240411', 'c:\\\\Users\\\\westwell\\\\Documents\\\\.WorkDocuments\\\\github\\\\westwell_da\\\\data\\\\raw\\\\W99\\\\TS20240411\\\\574_IGVData.csv')\n",
      "('WH', '宝旺8号', 'c:\\\\Users\\\\westwell\\\\Documents\\\\.WorkDocuments\\\\github\\\\westwell_da\\\\data\\\\raw\\\\W99\\\\WH20240408\\\\宝旺8号\\\\TD001_IGVData_KPI.csv')\n",
      "('WH', '宝旺8号', 'c:\\\\Users\\\\westwell\\\\Documents\\\\.WorkDocuments\\\\github\\\\westwell_da\\\\data\\\\raw\\\\W99\\\\WH20240408\\\\宝旺8号\\\\TD002_IGVData_KPI.csv')\n",
      "('WH', '宝旺8号', 'c:\\\\Users\\\\westwell\\\\Documents\\\\.WorkDocuments\\\\github\\\\westwell_da\\\\data\\\\raw\\\\W99\\\\WH20240408\\\\宝旺8号\\\\TD003_IGVData_KPI.csv')\n",
      "('WH', '宝旺8号', 'c:\\\\Users\\\\westwell\\\\Documents\\\\.WorkDocuments\\\\github\\\\westwell_da\\\\data\\\\raw\\\\W99\\\\WH20240408\\\\宝旺8号\\\\TD004_IGVData_KPI.csv')\n",
      "('WH', '宝旺8号', 'c:\\\\Users\\\\westwell\\\\Documents\\\\.WorkDocuments\\\\github\\\\westwell_da\\\\data\\\\raw\\\\W99\\\\WH20240408\\\\宝旺8号\\\\TD005_IGVData_KPI.csv')\n",
      "('WH', '宝旺8号', 'c:\\\\Users\\\\westwell\\\\Documents\\\\.WorkDocuments\\\\github\\\\westwell_da\\\\data\\\\raw\\\\W99\\\\WH20240408\\\\宝旺8号\\\\TD006_IGVData_KPI.csv')\n",
      "('WH', '拓海通江', 'c:\\\\Users\\\\westwell\\\\Documents\\\\.WorkDocuments\\\\github\\\\westwell_da\\\\data\\\\raw\\\\W99\\\\WH20240408\\\\拓海通江\\\\TD001_IGVData_KPI.csv')\n",
      "('WH', '拓海通江', 'c:\\\\Users\\\\westwell\\\\Documents\\\\.WorkDocuments\\\\github\\\\westwell_da\\\\data\\\\raw\\\\W99\\\\WH20240408\\\\拓海通江\\\\TD002_IGVData_KPI.csv')\n",
      "('WH', '拓海通江', 'c:\\\\Users\\\\westwell\\\\Documents\\\\.WorkDocuments\\\\github\\\\westwell_da\\\\data\\\\raw\\\\W99\\\\WH20240408\\\\拓海通江\\\\TD003_IGVData_KPI.csv')\n",
      "('WH', '拓海通江', 'c:\\\\Users\\\\westwell\\\\Documents\\\\.WorkDocuments\\\\github\\\\westwell_da\\\\data\\\\raw\\\\W99\\\\WH20240408\\\\拓海通江\\\\TD004_IGVData_KPI.csv')\n",
      "('WH', '拓海通江', 'c:\\\\Users\\\\westwell\\\\Documents\\\\.WorkDocuments\\\\github\\\\westwell_da\\\\data\\\\raw\\\\W99\\\\WH20240408\\\\拓海通江\\\\TD005_IGVData_KPI.csv')\n",
      "Too litte info to extract from ('拓海通江', 'TD005_IGVData_KPI.csv').\n",
      "('WH', '拓海通江', 'c:\\\\Users\\\\westwell\\\\Documents\\\\.WorkDocuments\\\\github\\\\westwell_da\\\\data\\\\raw\\\\W99\\\\WH20240408\\\\拓海通江\\\\TD006_IGVData_KPI.csv')\n",
      "('YH', 'YH20240411', 'c:\\\\Users\\\\westwell\\\\Documents\\\\.WorkDocuments\\\\github\\\\westwell_da\\\\data\\\\raw\\\\W99\\\\YH20240411\\\\982Data.csv')\n",
      "('YH', 'YH20240411', 'c:\\\\Users\\\\westwell\\\\Documents\\\\.WorkDocuments\\\\github\\\\westwell_da\\\\data\\\\raw\\\\W99\\\\YH20240411\\\\983Data.csv')\n",
      "('YH', 'YH20240411', 'c:\\\\Users\\\\westwell\\\\Documents\\\\.WorkDocuments\\\\github\\\\westwell_da\\\\data\\\\raw\\\\W99\\\\YH20240411\\\\987Data.csv')\n",
      "('YH', 'YH20240411', 'c:\\\\Users\\\\westwell\\\\Documents\\\\.WorkDocuments\\\\github\\\\westwell_da\\\\data\\\\raw\\\\W99\\\\YH20240411\\\\988Data.csv')\n",
      "('YH', 'YH20240411', 'c:\\\\Users\\\\westwell\\\\Documents\\\\.WorkDocuments\\\\github\\\\westwell_da\\\\data\\\\raw\\\\W99\\\\YH20240411\\\\989Data.csv')\n",
      "('YH', 'YH20240411', 'c:\\\\Users\\\\westwell\\\\Documents\\\\.WorkDocuments\\\\github\\\\westwell_da\\\\data\\\\raw\\\\W99\\\\YH20240411\\\\990Data.csv')\n",
      "('YH', 'YH20240411', 'c:\\\\Users\\\\westwell\\\\Documents\\\\.WorkDocuments\\\\github\\\\westwell_da\\\\data\\\\raw\\\\W99\\\\YH20240411\\\\991Data.csv')\n",
      "('YH', 'YH20240411', 'c:\\\\Users\\\\westwell\\\\Documents\\\\.WorkDocuments\\\\github\\\\westwell_da\\\\data\\\\raw\\\\W99\\\\YH20240411\\\\992Data.csv')\n",
      "Created directory: c:\\Users\\westwell\\Documents\\.WorkDocuments\\github\\westwell_da\\data\\processed\\W99\\CK\n",
      "File exported to: c:\\Users\\westwell\\Documents\\.WorkDocuments\\github\\westwell_da\\data\\processed\\W99\\CK\\IgvData_ck20240408.csv\n",
      "Weekly file exported to: c:\\Users\\westwell\\Documents\\.WorkDocuments\\github\\westwell_da\\data\\processed\\W99\\Igv_W99_CK.csv\n",
      "\n",
      "Created directory: c:\\Users\\westwell\\Documents\\.WorkDocuments\\github\\westwell_da\\data\\processed\\W99\\DL\n",
      "File exported to: c:\\Users\\westwell\\Documents\\.WorkDocuments\\github\\westwell_da\\data\\processed\\W99\\DL\\IgvData_dl_20240408.csv\n",
      "Weekly file exported to: c:\\Users\\westwell\\Documents\\.WorkDocuments\\github\\westwell_da\\data\\processed\\W99\\Igv_W99_DL.csv\n",
      "\n",
      "Created directory: c:\\Users\\westwell\\Documents\\.WorkDocuments\\github\\westwell_da\\data\\processed\\W99\\ICA\n",
      "File exported to: c:\\Users\\westwell\\Documents\\.WorkDocuments\\github\\westwell_da\\data\\processed\\W99\\ICA\\IgvData_ica20240411.csv\n",
      "File exported to: c:\\Users\\westwell\\Documents\\.WorkDocuments\\github\\westwell_da\\data\\processed\\W99\\ICA\\IgvData_ica20240414.csv\n",
      "File exported to: c:\\Users\\westwell\\Documents\\.WorkDocuments\\github\\westwell_da\\data\\processed\\W99\\ICA\\IgvData_ica20240416.csv\n",
      "Weekly file exported to: c:\\Users\\westwell\\Documents\\.WorkDocuments\\github\\westwell_da\\data\\processed\\W99\\Igv_W99_ICA.csv\n",
      "\n",
      "Created directory: c:\\Users\\westwell\\Documents\\.WorkDocuments\\github\\westwell_da\\data\\processed\\W99\\TJ\n",
      "File exported to: c:\\Users\\westwell\\Documents\\.WorkDocuments\\github\\westwell_da\\data\\processed\\W99\\TJ\\IgvData_TJ20240409-0410kpi.csv\n",
      "Weekly file exported to: c:\\Users\\westwell\\Documents\\.WorkDocuments\\github\\westwell_da\\data\\processed\\W99\\Igv_W99_TJ.csv\n",
      "\n",
      "Created directory: c:\\Users\\westwell\\Documents\\.WorkDocuments\\github\\westwell_da\\data\\processed\\W99\\TPY\n",
      "File exported to: c:\\Users\\westwell\\Documents\\.WorkDocuments\\github\\westwell_da\\data\\processed\\W99\\TPY\\IgvData_tpy20240409.csv\n",
      "Weekly file exported to: c:\\Users\\westwell\\Documents\\.WorkDocuments\\github\\westwell_da\\data\\processed\\W99\\Igv_W99_TPY.csv\n",
      "\n",
      "Created directory: c:\\Users\\westwell\\Documents\\.WorkDocuments\\github\\westwell_da\\data\\processed\\W99\\TS\n",
      "File exported to: c:\\Users\\westwell\\Documents\\.WorkDocuments\\github\\westwell_da\\data\\processed\\W99\\TS\\IgvData_TS20240411.csv\n",
      "Weekly file exported to: c:\\Users\\westwell\\Documents\\.WorkDocuments\\github\\westwell_da\\data\\processed\\W99\\Igv_W99_TS.csv\n",
      "\n",
      "Created directory: c:\\Users\\westwell\\Documents\\.WorkDocuments\\github\\westwell_da\\data\\processed\\W99\\WH\n",
      "File exported to: c:\\Users\\westwell\\Documents\\.WorkDocuments\\github\\westwell_da\\data\\processed\\W99\\WH\\IgvData_宝旺8号.csv\n",
      "File exported to: c:\\Users\\westwell\\Documents\\.WorkDocuments\\github\\westwell_da\\data\\processed\\W99\\WH\\IgvData_拓海通江.csv\n",
      "Weekly file exported to: c:\\Users\\westwell\\Documents\\.WorkDocuments\\github\\westwell_da\\data\\processed\\W99\\Igv_W99_WH.csv\n",
      "\n",
      "Created directory: c:\\Users\\westwell\\Documents\\.WorkDocuments\\github\\westwell_da\\data\\processed\\W99\\YH\n",
      "File exported to: c:\\Users\\westwell\\Documents\\.WorkDocuments\\github\\westwell_da\\data\\processed\\W99\\YH\\IgvData_YH20240411.csv\n",
      "Weekly file exported to: c:\\Users\\westwell\\Documents\\.WorkDocuments\\github\\westwell_da\\data\\processed\\W99\\Igv_W99_YH.csv\n",
      "\n"
     ]
    }
   ],
   "source": [
    "import os\n",
    "import pandas as pd\n",
    "from src.processer_file import read_path \n",
    "from src.processer_file import get_path \n",
    "from src.processer_file import export_file\n",
    "\n",
    "export_file.export_to_csv(99, 'igv')\n",
    "# read_path.read(98, 'igv')"
   ]
  },
  {
   "cell_type": "code",
   "execution_count": 3,
   "metadata": {},
   "outputs": [
    {
     "data": {
      "text/plain": [
       "Index(['vehicle_id', 'position_x', 'position_y', 'position_z', 'heading',\n",
       "       'speed', 'speed_command', 'mileage_distance', 'power_on_time', 'soc',\n",
       "       'fuel_level', 'local_time', 'chassis_mode', 'estop', 'charge_status',\n",
       "       'task_state_running', 'task_state_estop', 'task_state_lock',\n",
       "       'task_stage', 'current_task', 'error_code', 'target_location',\n",
       "       'vesselVisitID', 'mission_type', 'container1_type', 'container2_type',\n",
       "       'vehicle_mode', 'missionID', 'location_ref', 'location_tag'],\n",
       "      dtype='object')"
      ]
     },
     "execution_count": 3,
     "metadata": {},
     "output_type": "execute_result"
    }
   ],
   "source": [
    "p = 'c:\\\\Users\\westwell\\Documents\\.WorkDocuments\\github\\westwell_da\\data\\processed\\W99\\Igv_W99_TJ.csv'\n",
    "p = os.path.abspath(p)\n",
    "\n",
    "df = pd.read_csv(p, encoding='utf-8-sig', index_col=0)\n",
    "df.columns"
   ]
  },
  {
   "cell_type": "code",
   "execution_count": null,
   "metadata": {},
   "outputs": [],
   "source": []
  },
  {
   "cell_type": "markdown",
   "metadata": {},
   "source": [
    "# Test all weekly file"
   ]
  },
  {
   "cell_type": "code",
   "execution_count": 10,
   "metadata": {},
   "outputs": [],
   "source": [
    "def get_all_weekly_file():\n",
    "    root = 'c:\\\\Users\\westwell\\Documents\\.WorkDocuments\\github\\westwell_da\\data\\processed\\W99'\n",
    "    pathlist = []\n",
    "    for item in os.listdir(root):\n",
    "        p = os.path.join(root, item)\n",
    "        if os.path.isfile(p):\n",
    "            pathlist.append(p)\n",
    "    return pathlist\n",
    "\n",
    "li = get_all_weekly_file()"
   ]
  },
  {
   "cell_type": "code",
   "execution_count": 12,
   "metadata": {},
   "outputs": [
    {
     "ename": "TypeError",
     "evalue": "read_csv() takes 1 positional argument but 2 positional arguments (and 1 keyword-only argument) were given",
     "output_type": "error",
     "traceback": [
      "\u001b[1;31m---------------------------------------------------------------------------\u001b[0m",
      "\u001b[1;31mTypeError\u001b[0m                                 Traceback (most recent call last)",
      "Cell \u001b[1;32mIn[12], line 2\u001b[0m\n\u001b[0;32m      1\u001b[0m \u001b[38;5;28;01mfor\u001b[39;00m p \u001b[38;5;129;01min\u001b[39;00m li:\n\u001b[1;32m----> 2\u001b[0m     df \u001b[38;5;241m=\u001b[39m pd\u001b[38;5;241m.\u001b[39mread_csv(p, \u001b[38;5;124m'\u001b[39m\u001b[38;5;124mutf-8-sig\u001b[39m\u001b[38;5;124m'\u001b[39m, index_col\u001b[38;5;241m=\u001b[39m\u001b[38;5;241m0\u001b[39m)\n",
      "\u001b[1;31mTypeError\u001b[0m: read_csv() takes 1 positional argument but 2 positional arguments (and 1 keyword-only argument) were given"
     ]
    }
   ],
   "source": [
    "for p in li:\n",
    "    df = pd.read_csv(p, encoding='utf-8-sig', index_col=0)"
   ]
  },
  {
   "cell_type": "code",
   "execution_count": null,
   "metadata": {},
   "outputs": [],
   "source": []
  }
 ],
 "metadata": {
  "kernelspec": {
   "display_name": "base",
   "language": "python",
   "name": "python3"
  },
  "language_info": {
   "codemirror_mode": {
    "name": "ipython",
    "version": 3
   },
   "file_extension": ".py",
   "mimetype": "text/x-python",
   "name": "python",
   "nbconvert_exporter": "python",
   "pygments_lexer": "ipython3",
   "version": "3.11.5"
  }
 },
 "nbformat": 4,
 "nbformat_minor": 2
}
